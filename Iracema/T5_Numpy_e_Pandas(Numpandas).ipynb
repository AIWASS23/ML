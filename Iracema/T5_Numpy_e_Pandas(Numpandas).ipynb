{
  "nbformat": 4,
  "nbformat_minor": 0,
  "metadata": {
    "colab": {
      "provenance": []
    },
    "kernelspec": {
      "name": "python3",
      "display_name": "Python 3"
    },
    "language_info": {
      "name": "python"
    }
  },
  "cells": [
    {
      "cell_type": "code",
      "source": [
        "v = 3\n",
        "u = 'minha string'"
      ],
      "metadata": {
        "id": "0UxbUhwTB6rM"
      },
      "execution_count": null,
      "outputs": []
    },
    {
      "cell_type": "code",
      "source": [
        "type(v)"
      ],
      "metadata": {
        "colab": {
          "base_uri": "https://localhost:8080/"
        },
        "id": "ZPh3WaKMCL4G",
        "outputId": "e062dd97-4a21-4d4b-cb1c-224a7182f05d"
      },
      "execution_count": null,
      "outputs": [
        {
          "output_type": "execute_result",
          "data": {
            "text/plain": [
              "int"
            ]
          },
          "metadata": {},
          "execution_count": 2
        }
      ]
    },
    {
      "cell_type": "code",
      "source": [
        "type(u)"
      ],
      "metadata": {
        "colab": {
          "base_uri": "https://localhost:8080/"
        },
        "id": "yVOajGmPCPLj",
        "outputId": "0e015f2c-c237-4333-a0dc-b228c366ad1f"
      },
      "execution_count": null,
      "outputs": [
        {
          "output_type": "execute_result",
          "data": {
            "text/plain": [
              "str"
            ]
          },
          "metadata": {},
          "execution_count": 3
        }
      ]
    },
    {
      "cell_type": "code",
      "source": [
        "lu = [1, 2, 3, 4, 5, 6]\n",
        "lu"
      ],
      "metadata": {
        "colab": {
          "base_uri": "https://localhost:8080/"
        },
        "id": "PDeEqM9OCQma",
        "outputId": "25e82cd2-7292-41ac-e1e0-14a92a86e704"
      },
      "execution_count": null,
      "outputs": [
        {
          "output_type": "execute_result",
          "data": {
            "text/plain": [
              "[1, 2, 3, 4, 5, 6]"
            ]
          },
          "metadata": {},
          "execution_count": 4
        }
      ]
    },
    {
      "cell_type": "code",
      "source": [
        "lv = [9, 8, 7, 6, 5, 4]\n",
        "lv"
      ],
      "metadata": {
        "colab": {
          "base_uri": "https://localhost:8080/"
        },
        "id": "-o4oNZGCC18o",
        "outputId": "9c709377-a576-4c2a-aaf4-dfcbfaaaaecd"
      },
      "execution_count": null,
      "outputs": [
        {
          "output_type": "execute_result",
          "data": {
            "text/plain": [
              "[9, 8, 7, 6, 5, 4]"
            ]
          },
          "metadata": {},
          "execution_count": 15
        }
      ]
    },
    {
      "cell_type": "code",
      "source": [
        "# class MinhaClasse:\n",
        "\n",
        "#   def __add__(self, other):\n",
        "#     pass\n",
        "\n",
        "#   def __mul__(self, other):\n",
        "#     pass\n",
        "\n",
        "# mc1 = MinhaClasse()\n",
        "# mc2 = MinhaClasse()\n",
        "\n",
        "# mc1 + mc2"
      ],
      "metadata": {
        "id": "qYUHloccC56H"
      },
      "execution_count": null,
      "outputs": []
    },
    {
      "cell_type": "code",
      "source": [
        "type(lv + lu)"
      ],
      "metadata": {
        "colab": {
          "base_uri": "https://localhost:8080/"
        },
        "id": "yfqjNAI0DHNQ",
        "outputId": "47f37018-fc88-41ed-8071-813c63e93e42"
      },
      "execution_count": null,
      "outputs": [
        {
          "output_type": "execute_result",
          "data": {
            "text/plain": [
              "list"
            ]
          },
          "metadata": {},
          "execution_count": 8
        }
      ]
    },
    {
      "cell_type": "code",
      "source": [
        "lu + lv"
      ],
      "metadata": {
        "colab": {
          "base_uri": "https://localhost:8080/"
        },
        "id": "talbWsjIDQAV",
        "outputId": "5163dc48-9fe4-4f0d-921f-08f1a97fcea8"
      },
      "execution_count": null,
      "outputs": [
        {
          "output_type": "execute_result",
          "data": {
            "text/plain": [
              "[1, 2, 3, 4, 5, 6, 9, 8, 7, 6, 5, 4, 3]"
            ]
          },
          "metadata": {},
          "execution_count": 9
        }
      ]
    },
    {
      "cell_type": "code",
      "execution_count": null,
      "metadata": {
        "id": "yx1WVb309b0K"
      },
      "outputs": [],
      "source": [
        "import numpy as np"
      ]
    },
    {
      "cell_type": "code",
      "source": [
        "lu = np.array(lu)\n",
        "lv = np.array(lv)\n",
        "type(lu)"
      ],
      "metadata": {
        "colab": {
          "base_uri": "https://localhost:8080/"
        },
        "id": "UalMrj6JDWqz",
        "outputId": "1dce2a19-d70f-4bc9-909b-fb0edbb8cb58"
      },
      "execution_count": null,
      "outputs": [
        {
          "output_type": "execute_result",
          "data": {
            "text/plain": [
              "numpy.ndarray"
            ]
          },
          "metadata": {},
          "execution_count": 16
        }
      ]
    },
    {
      "cell_type": "code",
      "source": [
        "print(lu)\n",
        "print(lv)"
      ],
      "metadata": {
        "colab": {
          "base_uri": "https://localhost:8080/"
        },
        "id": "qpNetl0IDphO",
        "outputId": "7517eb72-0ad9-4e31-ee13-39f554bc3fa6"
      },
      "execution_count": null,
      "outputs": [
        {
          "output_type": "stream",
          "name": "stdout",
          "text": [
            "[1 2 3 4 5 6]\n",
            "[9 8 7 6 5 4]\n"
          ]
        }
      ]
    },
    {
      "cell_type": "code",
      "source": [
        "lu + lv"
      ],
      "metadata": {
        "colab": {
          "base_uri": "https://localhost:8080/"
        },
        "id": "pJpDRrbADf0A",
        "outputId": "74c82b48-8ef4-402e-dfa7-69e0a2f88796"
      },
      "execution_count": null,
      "outputs": [
        {
          "output_type": "execute_result",
          "data": {
            "text/plain": [
              "array([10, 10, 10, 10, 10, 10])"
            ]
          },
          "metadata": {},
          "execution_count": 17
        }
      ]
    },
    {
      "cell_type": "code",
      "source": [
        "lu * lv"
      ],
      "metadata": {
        "colab": {
          "base_uri": "https://localhost:8080/"
        },
        "id": "Kt-KMQG5DwXM",
        "outputId": "aff60812-7af5-49a9-b281-d31812e1b44d"
      },
      "execution_count": null,
      "outputs": [
        {
          "output_type": "execute_result",
          "data": {
            "text/plain": [
              "array([ 9, 16, 21, 24, 25, 24])"
            ]
          },
          "metadata": {},
          "execution_count": 19
        }
      ]
    },
    {
      "cell_type": "markdown",
      "source": [
        "# Indexação de arrays"
      ],
      "metadata": {
        "id": "PPsPo8SED6Vi"
      }
    },
    {
      "cell_type": "code",
      "source": [
        "lu"
      ],
      "metadata": {
        "colab": {
          "base_uri": "https://localhost:8080/"
        },
        "id": "titx3qkmD4UB",
        "outputId": "e4e74791-926d-4620-e78a-1d1596abda54"
      },
      "execution_count": null,
      "outputs": [
        {
          "output_type": "execute_result",
          "data": {
            "text/plain": [
              "array([1, 2, 3, 4, 5, 6])"
            ]
          },
          "metadata": {},
          "execution_count": 20
        }
      ]
    },
    {
      "cell_type": "code",
      "source": [
        "lu[2]"
      ],
      "metadata": {
        "colab": {
          "base_uri": "https://localhost:8080/"
        },
        "id": "vJUKwQdYD8-p",
        "outputId": "a44e1399-043d-4287-bd2a-fe2ac13845d7"
      },
      "execution_count": null,
      "outputs": [
        {
          "output_type": "execute_result",
          "data": {
            "text/plain": [
              "3"
            ]
          },
          "metadata": {},
          "execution_count": 22
        }
      ]
    },
    {
      "cell_type": "code",
      "source": [
        "lu[ [0, 1, 2] ]"
      ],
      "metadata": {
        "colab": {
          "base_uri": "https://localhost:8080/"
        },
        "id": "vcqku0nHEB4p",
        "outputId": "55199b3e-be89-4585-ce16-ddafb794c5cd"
      },
      "execution_count": null,
      "outputs": [
        {
          "output_type": "execute_result",
          "data": {
            "text/plain": [
              "array([1, 2, 3])"
            ]
          },
          "metadata": {},
          "execution_count": 24
        }
      ]
    },
    {
      "cell_type": "code",
      "source": [
        "lu[ [0, 3, 4, 1] ]"
      ],
      "metadata": {
        "colab": {
          "base_uri": "https://localhost:8080/"
        },
        "id": "_Lkf9MtFENcV",
        "outputId": "3b132e61-db0d-43b8-db81-5c94946d6176"
      },
      "execution_count": null,
      "outputs": [
        {
          "output_type": "execute_result",
          "data": {
            "text/plain": [
              "array([1, 4, 5, 2])"
            ]
          },
          "metadata": {},
          "execution_count": 25
        }
      ]
    },
    {
      "cell_type": "code",
      "source": [
        "lu"
      ],
      "metadata": {
        "colab": {
          "base_uri": "https://localhost:8080/"
        },
        "id": "wxqAnrq9ETyp",
        "outputId": "cf54af44-c676-4624-d895-fc24d295a5f4"
      },
      "execution_count": null,
      "outputs": [
        {
          "output_type": "execute_result",
          "data": {
            "text/plain": [
              "array([1, 2, 3, 4, 5, 6])"
            ]
          },
          "metadata": {},
          "execution_count": 26
        }
      ]
    },
    {
      "cell_type": "code",
      "source": [
        "lu[\n",
        "    [False, True, True, True, False, False]\n",
        "]"
      ],
      "metadata": {
        "colab": {
          "base_uri": "https://localhost:8080/"
        },
        "id": "bOeTcgi1EVp5",
        "outputId": "3e445378-570d-454e-80ff-bfcd53292b81"
      },
      "execution_count": null,
      "outputs": [
        {
          "output_type": "execute_result",
          "data": {
            "text/plain": [
              "array([2, 3, 4])"
            ]
          },
          "metadata": {},
          "execution_count": 27
        }
      ]
    },
    {
      "cell_type": "code",
      "source": [
        "bool_op_1 = lu > 3\n",
        "bool_op_1"
      ],
      "metadata": {
        "colab": {
          "base_uri": "https://localhost:8080/"
        },
        "id": "1R6vPpYZEiWl",
        "outputId": "af4ceb5a-8528-4bfe-96f8-99e786252231"
      },
      "execution_count": null,
      "outputs": [
        {
          "output_type": "execute_result",
          "data": {
            "text/plain": [
              "array([False, False, False,  True,  True,  True])"
            ]
          },
          "metadata": {},
          "execution_count": 29
        }
      ]
    },
    {
      "cell_type": "code",
      "source": [
        "lu[\n",
        "    [False, False, False,  True,  True,  True]\n",
        "]"
      ],
      "metadata": {
        "colab": {
          "base_uri": "https://localhost:8080/"
        },
        "id": "eO-I54TAErne",
        "outputId": "4957c566-8ab9-412b-c2cf-dd0e5ad8c9de"
      },
      "execution_count": null,
      "outputs": [
        {
          "output_type": "execute_result",
          "data": {
            "text/plain": [
              "array([4, 5, 6])"
            ]
          },
          "metadata": {},
          "execution_count": 30
        }
      ]
    },
    {
      "cell_type": "code",
      "source": [
        "lu[\n",
        "    bool_op_1\n",
        "]"
      ],
      "metadata": {
        "colab": {
          "base_uri": "https://localhost:8080/"
        },
        "id": "tdhUXbz1EvG8",
        "outputId": "99c1bbdd-efe7-4c21-c4c1-e243ca173be6"
      },
      "execution_count": null,
      "outputs": [
        {
          "output_type": "execute_result",
          "data": {
            "text/plain": [
              "array([4, 5, 6])"
            ]
          },
          "metadata": {},
          "execution_count": 31
        }
      ]
    },
    {
      "cell_type": "code",
      "source": [
        "lu[ lu > 3 ]"
      ],
      "metadata": {
        "colab": {
          "base_uri": "https://localhost:8080/"
        },
        "id": "0adydUv5ExsD",
        "outputId": "652e457e-af8f-4e50-c30c-7de6cf66e0ac"
      },
      "execution_count": null,
      "outputs": [
        {
          "output_type": "execute_result",
          "data": {
            "text/plain": [
              "array([4, 5, 6])"
            ]
          },
          "metadata": {},
          "execution_count": 32
        }
      ]
    },
    {
      "cell_type": "code",
      "source": [
        "lu[\n",
        "    (lu > 2) & (lu < 5)\n",
        "]"
      ],
      "metadata": {
        "colab": {
          "base_uri": "https://localhost:8080/"
        },
        "id": "n8WA443hE0ur",
        "outputId": "09f43ec7-6faa-415d-a185-3db5f5261eed"
      },
      "execution_count": null,
      "outputs": [
        {
          "output_type": "execute_result",
          "data": {
            "text/plain": [
              "array([3, 4])"
            ]
          },
          "metadata": {},
          "execution_count": 33
        }
      ]
    },
    {
      "cell_type": "code",
      "source": [
        "print(lu)\n",
        "print(lv)"
      ],
      "metadata": {
        "colab": {
          "base_uri": "https://localhost:8080/"
        },
        "id": "T8bBDMPrE8Zd",
        "outputId": "5e2e0c83-b6e1-4d21-ebc5-988d6fe07eea"
      },
      "execution_count": null,
      "outputs": [
        {
          "output_type": "stream",
          "name": "stdout",
          "text": [
            "[1 2 3 4 5 6]\n",
            "[9 8 7 6 5 4]\n"
          ]
        }
      ]
    },
    {
      "cell_type": "code",
      "source": [
        "lu[0:4] # -> [lu[0], lu[1], lu[2], lu[3]]"
      ],
      "metadata": {
        "colab": {
          "base_uri": "https://localhost:8080/"
        },
        "id": "FZkjy4skFEwg",
        "outputId": "1a5e0441-79c9-41a7-bc2c-87738d4c3a7f"
      },
      "execution_count": null,
      "outputs": [
        {
          "output_type": "execute_result",
          "data": {
            "text/plain": [
              "array([1, 2, 3, 4])"
            ]
          },
          "metadata": {},
          "execution_count": 35
        }
      ]
    },
    {
      "cell_type": "code",
      "source": [
        "lu[1:3]"
      ],
      "metadata": {
        "colab": {
          "base_uri": "https://localhost:8080/"
        },
        "id": "8DIKJXp8FSE3",
        "outputId": "e56736cd-00f3-41fa-d914-fbab8678d81b"
      },
      "execution_count": null,
      "outputs": [
        {
          "output_type": "execute_result",
          "data": {
            "text/plain": [
              "array([2, 3])"
            ]
          },
          "metadata": {},
          "execution_count": 36
        }
      ]
    },
    {
      "cell_type": "code",
      "source": [
        "lu[1:3] * lv[3:5]"
      ],
      "metadata": {
        "colab": {
          "base_uri": "https://localhost:8080/"
        },
        "id": "Jw9sK067FUV-",
        "outputId": "ffe76aeb-bbb5-4b38-d309-dfbe6de9e2f3"
      },
      "execution_count": null,
      "outputs": [
        {
          "output_type": "execute_result",
          "data": {
            "text/plain": [
              "array([12, 15])"
            ]
          },
          "metadata": {},
          "execution_count": 37
        }
      ]
    },
    {
      "cell_type": "markdown",
      "source": [
        "# Matrizes e Indexação"
      ],
      "metadata": {
        "id": "UQ5l2hiKFZFe"
      }
    },
    {
      "cell_type": "code",
      "source": [
        "m1 = np.array([\n",
        "    [4, 5, 6],\n",
        "    [1, 2, 3],\n",
        "    [7, 6, 2]\n",
        "])\n",
        "\n",
        "m2 = np.array([\n",
        "    [2, 1, 7],\n",
        "    [7, 6, 2],\n",
        "    [1, 2, 3]\n",
        "])\n",
        "\n",
        "print(m1)\n",
        "print(m2)"
      ],
      "metadata": {
        "colab": {
          "base_uri": "https://localhost:8080/"
        },
        "id": "m0fGGTpuFa-W",
        "outputId": "caf04738-8778-423d-cb2d-a49801e0d134"
      },
      "execution_count": null,
      "outputs": [
        {
          "output_type": "stream",
          "name": "stdout",
          "text": [
            "[[4 5 6]\n",
            " [1 2 3]\n",
            " [7 6 2]]\n",
            "[[2 1 7]\n",
            " [7 6 2]\n",
            " [1 2 3]]\n"
          ]
        }
      ]
    },
    {
      "cell_type": "code",
      "source": [
        "m1"
      ],
      "metadata": {
        "colab": {
          "base_uri": "https://localhost:8080/"
        },
        "id": "paDwlZaMFwaK",
        "outputId": "002782f9-2e78-4dfe-eff6-99f880b1655b"
      },
      "execution_count": null,
      "outputs": [
        {
          "output_type": "execute_result",
          "data": {
            "text/plain": [
              "array([[4, 5, 6],\n",
              "       [1, 2, 3],\n",
              "       [7, 6, 2]])"
            ]
          },
          "metadata": {},
          "execution_count": 39
        }
      ]
    },
    {
      "cell_type": "code",
      "source": [
        "m1[0:2, 0:2]"
      ],
      "metadata": {
        "colab": {
          "base_uri": "https://localhost:8080/"
        },
        "id": "VPVK_zxcFx25",
        "outputId": "38d1ffbc-9333-436f-f70a-ec89f7fbc9c4"
      },
      "execution_count": null,
      "outputs": [
        {
          "output_type": "execute_result",
          "data": {
            "text/plain": [
              "array([[4, 5],\n",
              "       [1, 2]])"
            ]
          },
          "metadata": {},
          "execution_count": 40
        }
      ]
    },
    {
      "cell_type": "code",
      "source": [
        "m2[1:3, 1:3]"
      ],
      "metadata": {
        "colab": {
          "base_uri": "https://localhost:8080/"
        },
        "id": "ullyza_gF7dG",
        "outputId": "53a4d299-939c-4304-af8c-fcade17e7243"
      },
      "execution_count": null,
      "outputs": [
        {
          "output_type": "execute_result",
          "data": {
            "text/plain": [
              "array([[6, 2],\n",
              "       [2, 3]])"
            ]
          },
          "metadata": {},
          "execution_count": 41
        }
      ]
    },
    {
      "cell_type": "code",
      "source": [
        "m2"
      ],
      "metadata": {
        "colab": {
          "base_uri": "https://localhost:8080/"
        },
        "id": "Vv-bsy3gHZuF",
        "outputId": "710c13fd-04d7-4953-f1be-f61a82df9b33"
      },
      "execution_count": null,
      "outputs": [
        {
          "output_type": "execute_result",
          "data": {
            "text/plain": [
              "array([[2, 1, 7],\n",
              "       [7, 6, 2],\n",
              "       [1, 2, 3]])"
            ]
          },
          "metadata": {},
          "execution_count": 58
        }
      ]
    },
    {
      "cell_type": "code",
      "source": [
        "m2[0:3, 1]"
      ],
      "metadata": {
        "colab": {
          "base_uri": "https://localhost:8080/"
        },
        "id": "Mi2g_yzlHdyW",
        "outputId": "29e92e3b-ea56-49b1-bf76-8317e3f94ee8"
      },
      "execution_count": null,
      "outputs": [
        {
          "output_type": "execute_result",
          "data": {
            "text/plain": [
              "array([1, 6, 2])"
            ]
          },
          "metadata": {},
          "execution_count": 59
        }
      ]
    },
    {
      "cell_type": "code",
      "source": [
        "m2[:, 1]"
      ],
      "metadata": {
        "colab": {
          "base_uri": "https://localhost:8080/"
        },
        "id": "uAm7Wu9cHols",
        "outputId": "87be9500-05b3-4921-9965-21b406c1262c"
      },
      "execution_count": null,
      "outputs": [
        {
          "output_type": "execute_result",
          "data": {
            "text/plain": [
              "array([1, 6, 2])"
            ]
          },
          "metadata": {},
          "execution_count": 61
        }
      ]
    },
    {
      "cell_type": "code",
      "source": [
        "m2[1, 0:3]"
      ],
      "metadata": {
        "colab": {
          "base_uri": "https://localhost:8080/"
        },
        "id": "Qd1_YrC5Hjms",
        "outputId": "3f547a91-251a-4c63-a967-700cf09ffbfe"
      },
      "execution_count": null,
      "outputs": [
        {
          "output_type": "execute_result",
          "data": {
            "text/plain": [
              "array([7, 6, 2])"
            ]
          },
          "metadata": {},
          "execution_count": 60
        }
      ]
    },
    {
      "cell_type": "code",
      "source": [
        "m2[1, :]"
      ],
      "metadata": {
        "colab": {
          "base_uri": "https://localhost:8080/"
        },
        "id": "cux-XQXkHr2t",
        "outputId": "3215dcb4-ea4f-4698-8101-3c1cd45175c5"
      },
      "execution_count": null,
      "outputs": [
        {
          "output_type": "execute_result",
          "data": {
            "text/plain": [
              "array([7, 6, 2])"
            ]
          },
          "metadata": {},
          "execution_count": 62
        }
      ]
    },
    {
      "cell_type": "markdown",
      "source": [
        "# Geração de Matrizes"
      ],
      "metadata": {
        "id": "4YjrIkeqGCiG"
      }
    },
    {
      "cell_type": "code",
      "source": [
        "m3 = np.random.randint(1, 37, (3, 3))\n",
        "m3"
      ],
      "metadata": {
        "colab": {
          "base_uri": "https://localhost:8080/"
        },
        "id": "HK_UnRtvGAZd",
        "outputId": "1ef671f9-6458-4914-9b49-7ea240c81108"
      },
      "execution_count": null,
      "outputs": [
        {
          "output_type": "execute_result",
          "data": {
            "text/plain": [
              "array([[ 7, 33,  8],\n",
              "       [21, 19, 35],\n",
              "       [ 6, 10, 36]])"
            ]
          },
          "metadata": {},
          "execution_count": 47
        }
      ]
    },
    {
      "cell_type": "code",
      "source": [
        "m4 = np.random.randn(5,5)\n",
        "m4"
      ],
      "metadata": {
        "colab": {
          "base_uri": "https://localhost:8080/"
        },
        "id": "jn86AHFtGNIK",
        "outputId": "21e38152-a8cc-405a-990c-14eb498b9cdd"
      },
      "execution_count": null,
      "outputs": [
        {
          "output_type": "execute_result",
          "data": {
            "text/plain": [
              "array([[-0.1048328 , -0.65503107, -0.63208713, -0.74463016,  1.05333545],\n",
              "       [-0.19331132, -0.08076641,  0.47103048, -0.22521618, -0.54970492],\n",
              "       [ 0.14940812, -0.527474  , -1.99372204, -0.14723778, -2.37787436],\n",
              "       [ 0.65467739, -1.84972884, -0.46491058, -1.83544403,  1.30175348],\n",
              "       [-0.71260169,  0.55260817,  1.21328575, -0.72648019, -0.62470607]])"
            ]
          },
          "metadata": {},
          "execution_count": 50
        }
      ]
    },
    {
      "cell_type": "code",
      "source": [
        "m5 = np.random.randn(15,15)\n",
        "print(m5.mean(), m5.std())"
      ],
      "metadata": {
        "colab": {
          "base_uri": "https://localhost:8080/"
        },
        "id": "pW_pL5mXHHFw",
        "outputId": "4f994a15-e8c4-41bd-8ad8-22928ac6f695"
      },
      "execution_count": null,
      "outputs": [
        {
          "output_type": "stream",
          "name": "stdout",
          "text": [
            "-0.028326910246191626 0.9969155747571943\n"
          ]
        }
      ]
    },
    {
      "cell_type": "markdown",
      "source": [
        "# Operações com Matrizes"
      ],
      "metadata": {
        "id": "UOTa_w2JGvZ-"
      }
    },
    {
      "cell_type": "code",
      "source": [
        "m6 = np.random.randint(1, 12, (5, 5))\n",
        "m6"
      ],
      "metadata": {
        "colab": {
          "base_uri": "https://localhost:8080/"
        },
        "id": "rBx3AZEpHuix",
        "outputId": "f1daf42f-b167-46f7-9902-6c836dc3b370"
      },
      "execution_count": null,
      "outputs": [
        {
          "output_type": "execute_result",
          "data": {
            "text/plain": [
              "array([[ 6,  1,  1,  9, 11],\n",
              "       [ 8,  6,  3,  9, 10],\n",
              "       [ 7,  2,  4, 10,  4],\n",
              "       [ 8,  9,  5,  2, 10],\n",
              "       [ 9,  6,  5, 11,  6]])"
            ]
          },
          "metadata": {},
          "execution_count": 64
        }
      ]
    },
    {
      "cell_type": "code",
      "source": [
        "m6.sum(axis=1)"
      ],
      "metadata": {
        "colab": {
          "base_uri": "https://localhost:8080/"
        },
        "id": "d5FRSXFPH0zQ",
        "outputId": "5844e41e-9a0a-4518-9e3e-dcabca9f2dcd"
      },
      "execution_count": null,
      "outputs": [
        {
          "output_type": "execute_result",
          "data": {
            "text/plain": [
              "array([28, 36, 27, 34, 37])"
            ]
          },
          "metadata": {},
          "execution_count": 65
        }
      ]
    },
    {
      "cell_type": "code",
      "source": [
        "m6.sum(axis=0)"
      ],
      "metadata": {
        "colab": {
          "base_uri": "https://localhost:8080/"
        },
        "id": "IJXfZinfIPEM",
        "outputId": "95855004-4a53-4a77-caa4-53df5e8f680f"
      },
      "execution_count": null,
      "outputs": [
        {
          "output_type": "execute_result",
          "data": {
            "text/plain": [
              "array([38, 24, 18, 41, 41])"
            ]
          },
          "metadata": {},
          "execution_count": 66
        }
      ]
    },
    {
      "cell_type": "code",
      "source": [
        "m6.mean(axis=1)"
      ],
      "metadata": {
        "colab": {
          "base_uri": "https://localhost:8080/"
        },
        "id": "IDqPGg6RIX6q",
        "outputId": "b2106efd-f42c-4345-9473-ed31c16398b8"
      },
      "execution_count": null,
      "outputs": [
        {
          "output_type": "execute_result",
          "data": {
            "text/plain": [
              "array([5.6, 7.2, 5.4, 6.8, 7.4])"
            ]
          },
          "metadata": {},
          "execution_count": 67
        }
      ]
    },
    {
      "cell_type": "code",
      "source": [
        "m6.mean(axis=0)"
      ],
      "metadata": {
        "colab": {
          "base_uri": "https://localhost:8080/"
        },
        "id": "EygEUr_0IeXX",
        "outputId": "f28a3d0e-01bb-428c-b6d2-3729a0781236"
      },
      "execution_count": null,
      "outputs": [
        {
          "output_type": "execute_result",
          "data": {
            "text/plain": [
              "array([7.6, 4.8, 3.6, 8.2, 8.2])"
            ]
          },
          "metadata": {},
          "execution_count": 68
        }
      ]
    },
    {
      "cell_type": "code",
      "source": [
        "print(m6.std(axis=1), m6.std(axis=0))"
      ],
      "metadata": {
        "colab": {
          "base_uri": "https://localhost:8080/"
        },
        "id": "GJVAC5c1IhHg",
        "outputId": "572854fe-80da-4760-d296-12f3dafc4ab0"
      },
      "execution_count": null,
      "outputs": [
        {
          "output_type": "stream",
          "name": "stdout",
          "text": [
            "[4.07921561 2.48193473 2.8        2.92574777 2.24499443] [1.0198039  2.92574777 1.49666295 3.18747549 2.71293199]\n"
          ]
        }
      ]
    },
    {
      "cell_type": "code",
      "source": [
        "m6.sort(axis=1)\n",
        "m6"
      ],
      "metadata": {
        "colab": {
          "base_uri": "https://localhost:8080/"
        },
        "id": "b2ul1AdEInER",
        "outputId": "c0580590-6e08-46e0-8256-8051f972b7e6"
      },
      "execution_count": null,
      "outputs": [
        {
          "output_type": "execute_result",
          "data": {
            "text/plain": [
              "array([[ 1,  1,  6,  9, 11],\n",
              "       [ 3,  6,  8,  9, 10],\n",
              "       [ 2,  4,  4,  7, 10],\n",
              "       [ 2,  5,  8,  9, 10],\n",
              "       [ 5,  6,  6,  9, 11]])"
            ]
          },
          "metadata": {},
          "execution_count": 71
        }
      ]
    },
    {
      "cell_type": "code",
      "source": [
        "m6.sort(axis=0)\n",
        "m6"
      ],
      "metadata": {
        "colab": {
          "base_uri": "https://localhost:8080/"
        },
        "id": "mMjgSsDHIx5Q",
        "outputId": "bc66cd43-f138-4ff9-9692-110fe72151b8"
      },
      "execution_count": null,
      "outputs": [
        {
          "output_type": "execute_result",
          "data": {
            "text/plain": [
              "array([[ 1,  1,  4,  7, 10],\n",
              "       [ 2,  4,  6,  9, 10],\n",
              "       [ 2,  5,  6,  9, 10],\n",
              "       [ 3,  6,  8,  9, 11],\n",
              "       [ 5,  6,  8,  9, 11]])"
            ]
          },
          "metadata": {},
          "execution_count": 72
        }
      ]
    },
    {
      "cell_type": "markdown",
      "source": [
        "# Criar matrizes a partir de outras matrizes"
      ],
      "metadata": {
        "id": "GtFM5IkcLxWG"
      }
    },
    {
      "cell_type": "code",
      "source": [
        "m5_2 = np.random.randint(1, 5, (3, 6))\n",
        "m5_2"
      ],
      "metadata": {
        "colab": {
          "base_uri": "https://localhost:8080/"
        },
        "id": "56F6QoQILzUV",
        "outputId": "e64ae5b9-e706-4585-8619-f1645a594e1f"
      },
      "execution_count": null,
      "outputs": [
        {
          "output_type": "execute_result",
          "data": {
            "text/plain": [
              "array([[3, 4, 2, 3, 2, 1],\n",
              "       [2, 2, 4, 3, 4, 2],\n",
              "       [3, 2, 4, 1, 3, 3]])"
            ]
          },
          "metadata": {},
          "execution_count": 88
        }
      ]
    },
    {
      "cell_type": "code",
      "source": [
        "m5_2.reshape((6, 3))"
      ],
      "metadata": {
        "colab": {
          "base_uri": "https://localhost:8080/"
        },
        "id": "peDO2TXIL469",
        "outputId": "55f5c51e-2de3-4ab7-89a6-9b1b4dc69257"
      },
      "execution_count": null,
      "outputs": [
        {
          "output_type": "execute_result",
          "data": {
            "text/plain": [
              "array([[3, 4, 2],\n",
              "       [3, 2, 1],\n",
              "       [2, 2, 4],\n",
              "       [3, 4, 2],\n",
              "       [3, 2, 4],\n",
              "       [1, 3, 3]])"
            ]
          },
          "metadata": {},
          "execution_count": 89
        }
      ]
    },
    {
      "cell_type": "code",
      "source": [
        "m5_2.reshape((9, 2))"
      ],
      "metadata": {
        "colab": {
          "base_uri": "https://localhost:8080/"
        },
        "id": "hUqiCiC7MDKF",
        "outputId": "e149543b-e7d9-41f9-a668-d89718cc9e92"
      },
      "execution_count": null,
      "outputs": [
        {
          "output_type": "execute_result",
          "data": {
            "text/plain": [
              "array([[3, 4],\n",
              "       [2, 3],\n",
              "       [2, 1],\n",
              "       [2, 2],\n",
              "       [4, 3],\n",
              "       [4, 2],\n",
              "       [3, 2],\n",
              "       [4, 1],\n",
              "       [3, 3]])"
            ]
          },
          "metadata": {},
          "execution_count": 91
        }
      ]
    },
    {
      "cell_type": "code",
      "source": [
        "m5_2.reshape((5, 3))"
      ],
      "metadata": {
        "colab": {
          "base_uri": "https://localhost:8080/",
          "height": 171
        },
        "id": "oZYl1D9cMJvd",
        "outputId": "c41ebd30-3d3b-4f98-cbfe-e638cddcb967"
      },
      "execution_count": null,
      "outputs": [
        {
          "output_type": "error",
          "ename": "ValueError",
          "evalue": "ignored",
          "traceback": [
            "\u001b[0;31m---------------------------------------------------------------------------\u001b[0m",
            "\u001b[0;31mValueError\u001b[0m                                Traceback (most recent call last)",
            "\u001b[0;32m<ipython-input-93-7442cc6f805c>\u001b[0m in \u001b[0;36m<cell line: 1>\u001b[0;34m()\u001b[0m\n\u001b[0;32m----> 1\u001b[0;31m \u001b[0mm5_2\u001b[0m\u001b[0;34m.\u001b[0m\u001b[0mreshape\u001b[0m\u001b[0;34m(\u001b[0m\u001b[0;34m(\u001b[0m\u001b[0;36m5\u001b[0m\u001b[0;34m,\u001b[0m \u001b[0;36m3\u001b[0m\u001b[0;34m)\u001b[0m\u001b[0;34m)\u001b[0m\u001b[0;34m\u001b[0m\u001b[0;34m\u001b[0m\u001b[0m\n\u001b[0m",
            "\u001b[0;31mValueError\u001b[0m: cannot reshape array of size 18 into shape (5,3)"
          ]
        }
      ]
    },
    {
      "cell_type": "markdown",
      "source": [
        "# Flattenização"
      ],
      "metadata": {
        "id": "f4TBER10I3DN"
      }
    },
    {
      "cell_type": "code",
      "source": [
        "m6.ravel()"
      ],
      "metadata": {
        "colab": {
          "base_uri": "https://localhost:8080/"
        },
        "id": "q8czwN9II5--",
        "outputId": "21712ff0-c0e8-4ead-e24a-a657957c9f7a"
      },
      "execution_count": null,
      "outputs": [
        {
          "output_type": "execute_result",
          "data": {
            "text/plain": [
              "array([ 1,  1,  4,  7, 10,  2,  4,  6,  9, 10,  2,  5,  6,  9, 10,  3,  6,\n",
              "        8,  9, 11,  5,  6,  8,  9, 11])"
            ]
          },
          "metadata": {},
          "execution_count": 73
        }
      ]
    },
    {
      "cell_type": "code",
      "source": [
        "m7 = np.random.randint(1, 10, (3, 3, 2))\n",
        "m7"
      ],
      "metadata": {
        "colab": {
          "base_uri": "https://localhost:8080/"
        },
        "id": "8T5RiMuuJORq",
        "outputId": "5a3a3a64-40c6-4efe-c92f-4dd93faefc4c"
      },
      "execution_count": null,
      "outputs": [
        {
          "output_type": "execute_result",
          "data": {
            "text/plain": [
              "array([[[9, 8],\n",
              "        [6, 9],\n",
              "        [6, 1]],\n",
              "\n",
              "       [[7, 8],\n",
              "        [8, 2],\n",
              "        [8, 7]],\n",
              "\n",
              "       [[6, 8],\n",
              "        [2, 3],\n",
              "        [8, 7]]])"
            ]
          },
          "metadata": {},
          "execution_count": 75
        }
      ]
    },
    {
      "cell_type": "code",
      "source": [
        "m7.ravel()"
      ],
      "metadata": {
        "colab": {
          "base_uri": "https://localhost:8080/"
        },
        "id": "qaUm6Wn6JWV6",
        "outputId": "089d9fa0-92c1-4968-dcf6-7a8a12392df7"
      },
      "execution_count": null,
      "outputs": [
        {
          "output_type": "execute_result",
          "data": {
            "text/plain": [
              "array([9, 8, 6, 9, 6, 1, 7, 8, 8, 2, 8, 7, 6, 8, 2, 3, 8, 7])"
            ]
          },
          "metadata": {},
          "execution_count": 76
        }
      ]
    },
    {
      "cell_type": "code",
      "source": [
        "np.concatenate((m7)).shape"
      ],
      "metadata": {
        "colab": {
          "base_uri": "https://localhost:8080/"
        },
        "id": "UXAyWz66JYc7",
        "outputId": "14537dc7-a3f6-46b9-c5c8-8b0ebbfb39f4"
      },
      "execution_count": null,
      "outputs": [
        {
          "output_type": "execute_result",
          "data": {
            "text/plain": [
              "(9, 2)"
            ]
          },
          "metadata": {},
          "execution_count": 78
        }
      ]
    },
    {
      "cell_type": "markdown",
      "source": [
        "# Subtração ao longo de linhas e colunas"
      ],
      "metadata": {
        "id": "iBrkc1wnKeOx"
      }
    },
    {
      "cell_type": "code",
      "source": [
        "m8 = np.random.randint(1, 4, (3, 3))\n",
        "v1 = np.random.randint(1, 3, (1, 3))\n",
        "\n",
        "print(m8)\n",
        "print()\n",
        "print(v1)"
      ],
      "metadata": {
        "colab": {
          "base_uri": "https://localhost:8080/"
        },
        "id": "symrZC-_KhFw",
        "outputId": "19b0d7a8-e7fc-47f6-e70d-35daef014af1"
      },
      "execution_count": null,
      "outputs": [
        {
          "output_type": "stream",
          "name": "stdout",
          "text": [
            "[[2 1 2]\n",
            " [2 2 2]\n",
            " [3 2 3]]\n",
            "\n",
            "[[2 2 1]]\n"
          ]
        }
      ]
    },
    {
      "cell_type": "code",
      "source": [
        "m8 - v1\n",
        "# [2, 1, 2] - [2, 2, 1]\n",
        "# [2, 2, 2] - [2, 2, 1]\n",
        "# [3, 2, 3] - [2, 2, 1]"
      ],
      "metadata": {
        "colab": {
          "base_uri": "https://localhost:8080/"
        },
        "id": "AMsiBkL2K4Bt",
        "outputId": "ad56a158-8e85-4f31-a165-0ef447fe2693"
      },
      "execution_count": null,
      "outputs": [
        {
          "output_type": "execute_result",
          "data": {
            "text/plain": [
              "array([[ 0, -1,  1],\n",
              "       [ 0,  0,  1],\n",
              "       [ 1,  0,  2]])"
            ]
          },
          "metadata": {},
          "execution_count": 83
        }
      ]
    },
    {
      "cell_type": "code",
      "source": [
        "v1 = v1.reshape((3, 1))\n",
        "v1"
      ],
      "metadata": {
        "colab": {
          "base_uri": "https://localhost:8080/"
        },
        "id": "PfAb7rbhLQGh",
        "outputId": "2db9eae8-d70d-4464-8a32-4c53c60c2e94"
      },
      "execution_count": null,
      "outputs": [
        {
          "output_type": "execute_result",
          "data": {
            "text/plain": [
              "array([[2],\n",
              "       [2],\n",
              "       [1]])"
            ]
          },
          "metadata": {},
          "execution_count": 84
        }
      ]
    },
    {
      "cell_type": "code",
      "source": [
        "m8\n",
        "# [2, 1, 2] - [2]\n",
        "# [2, 2, 2] - [2]\n",
        "# [3, 2, 3] - [1]"
      ],
      "metadata": {
        "colab": {
          "base_uri": "https://localhost:8080/"
        },
        "id": "CE-XfgZYLXlB",
        "outputId": "c57c970c-cde1-420a-e22e-b3006d4d5a54"
      },
      "execution_count": null,
      "outputs": [
        {
          "output_type": "execute_result",
          "data": {
            "text/plain": [
              "array([[2, 1, 2],\n",
              "       [2, 2, 2],\n",
              "       [3, 2, 3]])"
            ]
          },
          "metadata": {},
          "execution_count": 86
        }
      ]
    },
    {
      "cell_type": "code",
      "source": [
        "m8 - v1"
      ],
      "metadata": {
        "colab": {
          "base_uri": "https://localhost:8080/"
        },
        "id": "QzFnsVYKLVAX",
        "outputId": "91de0d9c-69c2-41b9-b1d1-8f85049dbe4e"
      },
      "execution_count": null,
      "outputs": [
        {
          "output_type": "execute_result",
          "data": {
            "text/plain": [
              "array([[ 0, -1,  0],\n",
              "       [ 0,  0,  0],\n",
              "       [ 2,  1,  2]])"
            ]
          },
          "metadata": {},
          "execution_count": 85
        }
      ]
    },
    {
      "cell_type": "markdown",
      "source": [
        "# Álgebra Linear"
      ],
      "metadata": {
        "id": "RkttF2O5MTPR"
      }
    },
    {
      "cell_type": "code",
      "source": [
        "v = np.random.randint(1, 4, (1, 4))[0]\n",
        "u = np.random.randint(1, 4, (1, 4))[0]\n",
        "print(v, u)"
      ],
      "metadata": {
        "colab": {
          "base_uri": "https://localhost:8080/"
        },
        "id": "UUY5DpUmMU04",
        "outputId": "21d47b5e-5629-4f5f-f09b-5643bcb20a46"
      },
      "execution_count": null,
      "outputs": [
        {
          "output_type": "stream",
          "name": "stdout",
          "text": [
            "[1 2 1 2] [1 2 3 3]\n"
          ]
        }
      ]
    },
    {
      "cell_type": "code",
      "source": [
        "v.dot(u)\n",
        "# produto escalar"
      ],
      "metadata": {
        "colab": {
          "base_uri": "https://localhost:8080/"
        },
        "id": "WbQLHVysMj_8",
        "outputId": "6705f153-9fb7-435e-cf0e-5b0ea1372a03"
      },
      "execution_count": null,
      "outputs": [
        {
          "output_type": "execute_result",
          "data": {
            "text/plain": [
              "14"
            ]
          },
          "metadata": {},
          "execution_count": 100
        }
      ]
    },
    {
      "cell_type": "code",
      "source": [
        "v = np.array([3, 6, 3])\n",
        "u = np.array([-1, 1, -1])\n",
        "v.dot(u)"
      ],
      "metadata": {
        "colab": {
          "base_uri": "https://localhost:8080/"
        },
        "id": "DEAu4wYXMtUc",
        "outputId": "0f68eb20-7861-420b-f4d2-5cbe559efda9"
      },
      "execution_count": null,
      "outputs": [
        {
          "output_type": "execute_result",
          "data": {
            "text/plain": [
              "0"
            ]
          },
          "metadata": {},
          "execution_count": 101
        }
      ]
    },
    {
      "cell_type": "code",
      "source": [
        "m10 = np.random.randint(1, 3, (5, 5))\n",
        "m11 = np.random.randint(1, 3, (5, 5))\n",
        "m11.dot(m10)"
      ],
      "metadata": {
        "colab": {
          "base_uri": "https://localhost:8080/"
        },
        "id": "zXCe2L_RM1Ph",
        "outputId": "cc3308fc-1f05-4c74-c761-cecb3182d2b2"
      },
      "execution_count": null,
      "outputs": [
        {
          "output_type": "execute_result",
          "data": {
            "text/plain": [
              "array([[10, 10,  7, 10,  7],\n",
              "       [10, 10,  7, 10,  7],\n",
              "       [13, 11,  9, 11,  8],\n",
              "       [11, 10,  7,  9,  8],\n",
              "       [14, 12, 10, 14,  9]])"
            ]
          },
          "metadata": {},
          "execution_count": 105
        }
      ]
    },
    {
      "cell_type": "code",
      "source": [
        "v2 = np.random.randint(1, 3, (5, 1))\n",
        "m11.dot(v2)\n",
        "# (5, 5) x (5, 1) => (5, 1)"
      ],
      "metadata": {
        "colab": {
          "base_uri": "https://localhost:8080/"
        },
        "id": "cre1X59aNDt0",
        "outputId": "962d568f-f41a-4a2e-a317-01f7b5bf8b19"
      },
      "execution_count": null,
      "outputs": [
        {
          "output_type": "execute_result",
          "data": {
            "text/plain": [
              "array([[ 8],\n",
              "       [ 8],\n",
              "       [ 8],\n",
              "       [ 7],\n",
              "       [10]])"
            ]
          },
          "metadata": {},
          "execution_count": 106
        }
      ]
    },
    {
      "cell_type": "markdown",
      "source": [
        "# Ordenar um array com as posições de outro..."
      ],
      "metadata": {
        "id": "EunMOHh9NOSO"
      }
    },
    {
      "cell_type": "code",
      "source": [
        "# v1 = [4, 5, 1, 7, 9]\n",
        "# v2 = [1, 3, 4, 2, 8]\n",
        "# após ordenar o v1:\n",
        "# v1 => [1, 4, 5, 7, 9]\n",
        "# v2 => [4, 1, 3, 2, 8]"
      ],
      "metadata": {
        "id": "1tkQMXK2OWOc"
      },
      "execution_count": null,
      "outputs": []
    },
    {
      "cell_type": "code",
      "source": [
        "v1 = np.array([4, 5, 1, 7, 9])\n",
        "v1.argsort()"
      ],
      "metadata": {
        "colab": {
          "base_uri": "https://localhost:8080/"
        },
        "id": "1YvI5UP_O7O5",
        "outputId": "8c9c743a-cde1-4243-abb2-2b5df9a69078"
      },
      "execution_count": null,
      "outputs": [
        {
          "output_type": "execute_result",
          "data": {
            "text/plain": [
              "array([2, 0, 1, 3, 4])"
            ]
          },
          "metadata": {},
          "execution_count": 110
        }
      ]
    },
    {
      "cell_type": "code",
      "source": [
        "v1"
      ],
      "metadata": {
        "colab": {
          "base_uri": "https://localhost:8080/"
        },
        "id": "NvHwpXENPzlE",
        "outputId": "39911cfc-837b-4f53-dd62-9e0c06e8626c"
      },
      "execution_count": null,
      "outputs": [
        {
          "output_type": "execute_result",
          "data": {
            "text/plain": [
              "array([4, 5, 1, 7, 9])"
            ]
          },
          "metadata": {},
          "execution_count": 114
        }
      ]
    },
    {
      "cell_type": "code",
      "source": [
        "v1.sort()\n",
        "v1"
      ],
      "metadata": {
        "colab": {
          "base_uri": "https://localhost:8080/"
        },
        "id": "ospvYx34O_75",
        "outputId": "99327a2d-7435-4933-ef2b-9d1dc0bc21bf"
      },
      "execution_count": null,
      "outputs": [
        {
          "output_type": "execute_result",
          "data": {
            "text/plain": [
              "array([1, 4, 5, 7, 9])"
            ]
          },
          "metadata": {},
          "execution_count": 109
        }
      ]
    },
    {
      "cell_type": "code",
      "source": [
        "v1[\n",
        "    [2, 0, 1, 3, 4]\n",
        "]"
      ],
      "metadata": {
        "colab": {
          "base_uri": "https://localhost:8080/"
        },
        "id": "QHUCdeDgPNDA",
        "outputId": "f7592ee0-4115-4621-ba2f-55aad6a27fbc"
      },
      "execution_count": null,
      "outputs": [
        {
          "output_type": "execute_result",
          "data": {
            "text/plain": [
              "array([1, 4, 5, 7, 9])"
            ]
          },
          "metadata": {},
          "execution_count": 111
        }
      ]
    },
    {
      "cell_type": "code",
      "source": [
        "v2 = np.array([1, 3, 4, 2, 8])\n",
        "v2"
      ],
      "metadata": {
        "colab": {
          "base_uri": "https://localhost:8080/"
        },
        "id": "9aPzH9Q1PdlC",
        "outputId": "79baa83c-f85f-4f57-d5f6-f5b924bf8de7"
      },
      "execution_count": null,
      "outputs": [
        {
          "output_type": "execute_result",
          "data": {
            "text/plain": [
              "array([1, 3, 4, 2, 8])"
            ]
          },
          "metadata": {},
          "execution_count": 112
        }
      ]
    },
    {
      "cell_type": "code",
      "source": [
        "v2[\n",
        "    [2, 0, 1, 3, 4]\n",
        "]"
      ],
      "metadata": {
        "colab": {
          "base_uri": "https://localhost:8080/"
        },
        "id": "H2M3Z7ncPfSA",
        "outputId": "6daca972-76a0-4f38-c7d5-253c5e29887d"
      },
      "execution_count": null,
      "outputs": [
        {
          "output_type": "execute_result",
          "data": {
            "text/plain": [
              "array([4, 1, 3, 2, 8])"
            ]
          },
          "metadata": {},
          "execution_count": 115
        }
      ]
    },
    {
      "cell_type": "code",
      "source": [
        "v2[v1.argsort()]"
      ],
      "metadata": {
        "colab": {
          "base_uri": "https://localhost:8080/"
        },
        "id": "Zm55b46nQK4L",
        "outputId": "7487e5b8-2a2f-4505-f873-6c560081985a"
      },
      "execution_count": null,
      "outputs": [
        {
          "output_type": "execute_result",
          "data": {
            "text/plain": [
              "array([4, 1, 3, 2, 8])"
            ]
          },
          "metadata": {},
          "execution_count": 116
        }
      ]
    },
    {
      "cell_type": "code",
      "source": [
        "m13 = np.array([1, 2, 3, 5,4])\n",
        "m13"
      ],
      "metadata": {
        "colab": {
          "base_uri": "https://localhost:8080/"
        },
        "id": "bLhUj6NtV4kd",
        "outputId": "8cedb0ff-6fdf-4222-92a0-baf966406137"
      },
      "execution_count": null,
      "outputs": [
        {
          "output_type": "execute_result",
          "data": {
            "text/plain": [
              "array([1, 2, 3, 5, 4])"
            ]
          },
          "metadata": {},
          "execution_count": 117
        }
      ]
    },
    {
      "cell_type": "code",
      "source": [
        "m13[-3]\n",
        "# 0 => n-1\n",
        "# -n+1  <= -1"
      ],
      "metadata": {
        "colab": {
          "base_uri": "https://localhost:8080/"
        },
        "id": "srU30YADV969",
        "outputId": "0fb79642-279a-44da-fe34-18221fa5e04c"
      },
      "execution_count": null,
      "outputs": [
        {
          "output_type": "execute_result",
          "data": {
            "text/plain": [
              "3"
            ]
          },
          "metadata": {},
          "execution_count": 121
        }
      ]
    },
    {
      "cell_type": "code",
      "source": [
        "m13[0:-2]"
      ],
      "metadata": {
        "colab": {
          "base_uri": "https://localhost:8080/"
        },
        "id": "QY0O8zeLWHEL",
        "outputId": "315da914-f52c-4709-9486-0d6b575d46fb"
      },
      "execution_count": null,
      "outputs": [
        {
          "output_type": "execute_result",
          "data": {
            "text/plain": [
              "array([1, 2, 3])"
            ]
          },
          "metadata": {},
          "execution_count": 123
        }
      ]
    },
    {
      "cell_type": "markdown",
      "source": [
        "# Resolução de Questões"
      ],
      "metadata": {
        "id": "CGDpExc6bZJv"
      }
    },
    {
      "cell_type": "code",
      "source": [
        "# questão 5/9\n",
        "M = np.random.randint(1, 3, (3, 3))\n",
        "M"
      ],
      "metadata": {
        "colab": {
          "base_uri": "https://localhost:8080/"
        },
        "id": "9CGFDCUwW98_",
        "outputId": "805f9756-6b45-4b01-ba87-c4857954d2fb"
      },
      "execution_count": null,
      "outputs": [
        {
          "output_type": "execute_result",
          "data": {
            "text/plain": [
              "array([[1, 1, 1],\n",
              "       [1, 1, 1],\n",
              "       [1, 1, 2]])"
            ]
          },
          "metadata": {},
          "execution_count": 124
        }
      ]
    },
    {
      "cell_type": "code",
      "source": [
        "M.mean(axis=0)"
      ],
      "metadata": {
        "colab": {
          "base_uri": "https://localhost:8080/"
        },
        "id": "Uz_QQaXIXCOw",
        "outputId": "d6d35979-2858-4f5c-ba6e-d3b04a205905"
      },
      "execution_count": null,
      "outputs": [
        {
          "output_type": "execute_result",
          "data": {
            "text/plain": [
              "array([1.        , 1.        , 1.33333333])"
            ]
          },
          "metadata": {},
          "execution_count": 125
        }
      ]
    },
    {
      "cell_type": "code",
      "source": [
        "M.mean(axis=0).reshape(3, 1)"
      ],
      "metadata": {
        "colab": {
          "base_uri": "https://localhost:8080/"
        },
        "id": "bovOnCfXXv7H",
        "outputId": "a9dd2549-c388-48e7-e0a9-2bfe4c8317c6"
      },
      "execution_count": null,
      "outputs": [
        {
          "output_type": "execute_result",
          "data": {
            "text/plain": [
              "array([[1.        ],\n",
              "       [1.        ],\n",
              "       [1.33333333]])"
            ]
          },
          "metadata": {},
          "execution_count": 126
        }
      ]
    },
    {
      "cell_type": "code",
      "source": [
        "M - M.mean(axis=0).reshape(3, 1)\n",
        "# [1, 1, 1] - [1]\n",
        "# [1, 1, 1] - [1]\n",
        "# [1, 1, 2] - [1.3333]"
      ],
      "metadata": {
        "colab": {
          "base_uri": "https://localhost:8080/"
        },
        "id": "82Mo6KxGX1hh",
        "outputId": "7afdb837-10f1-49be-e04a-f21c4f0e3c63"
      },
      "execution_count": null,
      "outputs": [
        {
          "output_type": "execute_result",
          "data": {
            "text/plain": [
              "array([[ 0.        ,  0.        ,  0.        ],\n",
              "       [ 0.        ,  0.        ,  0.        ],\n",
              "       [-0.33333333, -0.33333333,  0.66666667]])"
            ]
          },
          "metadata": {},
          "execution_count": 128
        }
      ]
    },
    {
      "cell_type": "code",
      "source": [
        "# Questão 8/9\n",
        "M = np.random.randint(1, 10, (5, 5))\n",
        "M"
      ],
      "metadata": {
        "colab": {
          "base_uri": "https://localhost:8080/"
        },
        "id": "6Yrz4rNjbb7g",
        "outputId": "6d8adfd4-eb07-41c0-a276-867fe3369d5b"
      },
      "execution_count": null,
      "outputs": [
        {
          "output_type": "execute_result",
          "data": {
            "text/plain": [
              "array([[8, 5, 3, 3, 8],\n",
              "       [9, 7, 6, 2, 4],\n",
              "       [1, 9, 1, 1, 5],\n",
              "       [3, 1, 4, 3, 9],\n",
              "       [3, 5, 8, 8, 7]])"
            ]
          },
          "metadata": {},
          "execution_count": 132
        }
      ]
    },
    {
      "cell_type": "code",
      "source": [
        "x = M.ravel()\n",
        "x.sort()\n",
        "x"
      ],
      "metadata": {
        "id": "4aCyJIz3b2iX",
        "outputId": "e8e6c4fb-c254-420d-81f5-59654633b267",
        "colab": {
          "base_uri": "https://localhost:8080/"
        }
      },
      "execution_count": null,
      "outputs": [
        {
          "output_type": "execute_result",
          "data": {
            "text/plain": [
              "array([1, 1, 1, 1, 2, 3, 3, 3, 3, 3, 4, 4, 5, 5, 5, 6, 7, 7, 8, 8, 8, 8,\n",
              "       9, 9, 9])"
            ]
          },
          "metadata": {},
          "execution_count": 135
        }
      ]
    },
    {
      "cell_type": "code",
      "source": [
        "x.reshape((5, 5))"
      ],
      "metadata": {
        "id": "dDQQ1uVub7QV",
        "outputId": "bb9a0582-b365-4b31-eca9-c9a03473335d",
        "colab": {
          "base_uri": "https://localhost:8080/"
        }
      },
      "execution_count": null,
      "outputs": [
        {
          "output_type": "execute_result",
          "data": {
            "text/plain": [
              "array([[1, 1, 1, 1, 2],\n",
              "       [3, 3, 3, 3, 3],\n",
              "       [4, 4, 5, 5, 5],\n",
              "       [6, 7, 7, 8, 8],\n",
              "       [8, 8, 9, 9, 9]])"
            ]
          },
          "metadata": {},
          "execution_count": 136
        }
      ]
    },
    {
      "cell_type": "markdown",
      "source": [
        "# Funções Lambda - Python\n",
        "### Funções que podem ser declaradas em tempo de execução\n",
        "### Facilitam o desenvolvimento, pois possibilita o uso integrado com map(), filter() e reduce()\n",
        "### Porém, diminui a legibilidade do código ☹"
      ],
      "metadata": {
        "id": "Kg6b6CyTYxSc"
      }
    },
    {
      "cell_type": "markdown",
      "source": [
        "# Pandas\n",
        "### Biblioteca para manipulação de dados\n",
        "### Otimizada para cálculos de grande porte\n",
        "### Implementa diversos recursos que podem simplificar a vida do desenvolvedor e do analista de dados"
      ],
      "metadata": {
        "id": "S1FxX_HbYeEr"
      }
    }
  ]
}