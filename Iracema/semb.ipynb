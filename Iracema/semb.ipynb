{
  "nbformat": 4,
  "nbformat_minor": 0,
  "metadata": {
    "colab": {
      "provenance": []
    },
    "kernelspec": {
      "name": "python3",
      "display_name": "Python 3"
    },
    "language_info": {
      "name": "python"
    }
  },
  "cells": [
    {
      "cell_type": "code",
      "execution_count": 1,
      "metadata": {
        "colab": {
          "base_uri": "https://localhost:8080/",
          "height": 321
        },
        "id": "Ow4Yc0loopk9",
        "outputId": "15583fde-8dd0-4b00-df82-7b9947b092c1"
      },
      "outputs": [
        {
          "output_type": "error",
          "ename": "ValueError",
          "evalue": "ignored",
          "traceback": [
            "\u001b[0;31m---------------------------------------------------------------------------\u001b[0m",
            "\u001b[0;31mValueError\u001b[0m                                Traceback (most recent call last)",
            "\u001b[0;32m<ipython-input-1-c75767b6d536>\u001b[0m in \u001b[0;36m<cell line: 66>\u001b[0;34m()\u001b[0m\n\u001b[1;32m     65\u001b[0m \u001b[0;34m\u001b[0m\u001b[0m\n\u001b[1;32m     66\u001b[0m \u001b[0;32mif\u001b[0m \u001b[0m__name__\u001b[0m \u001b[0;34m==\u001b[0m \u001b[0;34m'__main__'\u001b[0m\u001b[0;34m:\u001b[0m\u001b[0;34m\u001b[0m\u001b[0;34m\u001b[0m\u001b[0m\n\u001b[0;32m---> 67\u001b[0;31m     \u001b[0mmain\u001b[0m\u001b[0;34m(\u001b[0m\u001b[0;34m)\u001b[0m\u001b[0;34m\u001b[0m\u001b[0;34m\u001b[0m\u001b[0m\n\u001b[0m",
            "\u001b[0;32m<ipython-input-1-c75767b6d536>\u001b[0m in \u001b[0;36mmain\u001b[0;34m()\u001b[0m\n\u001b[1;32m     44\u001b[0m     \u001b[0;32mwith\u001b[0m \u001b[0mopen\u001b[0m\u001b[0;34m(\u001b[0m\u001b[0;34m'input.bin'\u001b[0m\u001b[0;34m,\u001b[0m \u001b[0;34m'wb'\u001b[0m\u001b[0;34m)\u001b[0m \u001b[0;32mas\u001b[0m \u001b[0mfile\u001b[0m\u001b[0;34m:\u001b[0m\u001b[0;34m\u001b[0m\u001b[0;34m\u001b[0m\u001b[0m\n\u001b[1;32m     45\u001b[0m \u001b[0;34m\u001b[0m\u001b[0m\n\u001b[0;32m---> 46\u001b[0;31m         \u001b[0;32mfor\u001b[0m \u001b[0;34m[\u001b[0m\u001b[0mfunction\u001b[0m\u001b[0;34m,\u001b[0m \u001b[0ma\u001b[0m\u001b[0;34m,\u001b[0m \u001b[0mb\u001b[0m\u001b[0;34m,\u001b[0m \u001b[0mtoolResults\u001b[0m\u001b[0;34m]\u001b[0m \u001b[0;32min\u001b[0m \u001b[0mtests_data\u001b[0m\u001b[0;34m:\u001b[0m\u001b[0;34m\u001b[0m\u001b[0;34m\u001b[0m\u001b[0m\n\u001b[0m\u001b[1;32m     47\u001b[0m             \u001b[0mx\u001b[0m \u001b[0;34m=\u001b[0m \u001b[0mnp\u001b[0m\u001b[0;34m.\u001b[0m\u001b[0mlinspace\u001b[0m\u001b[0;34m(\u001b[0m\u001b[0ma\u001b[0m\u001b[0;34m,\u001b[0m \u001b[0mb\u001b[0m\u001b[0;34m,\u001b[0m \u001b[0mnum\u001b[0m\u001b[0;34m=\u001b[0m\u001b[0;36m500\u001b[0m\u001b[0;34m,\u001b[0m \u001b[0mdtype\u001b[0m\u001b[0;34m=\u001b[0m\u001b[0mnp\u001b[0m\u001b[0;34m.\u001b[0m\u001b[0mfloat64\u001b[0m\u001b[0;34m)\u001b[0m\u001b[0;34m\u001b[0m\u001b[0;34m\u001b[0m\u001b[0m\n\u001b[1;32m     48\u001b[0m \u001b[0;34m\u001b[0m\u001b[0m\n",
            "\u001b[0;31mValueError\u001b[0m: not enough values to unpack (expected 4, got 3)"
          ]
        }
      ],
      "source": [
        "import numpy as np\n",
        "from os import path, system\n",
        "\n",
        "\"\"\"\n",
        "tests_data = np.array([\n",
        "    [lambda x: x,                   0,  1,                  00.4999999999999999e-00],\n",
        "    [lambda x: x ** 2,              0,  1,                  00.3333340026746880e-00],\n",
        "    [lambda x: 6 * x ** 2 + 5 * x,  1,  3,                  72.0000321283850200e-00],\n",
        "    [lambda x: np.log(x),           1,  10,                 14.0258265327417000e-00],\n",
        "    [lambda x: np.sin(x),           0,  6.283185307179586,  03.5941550175457040e-16],\n",
        "    [lambda x: np.sin(x ** 2),      0,  6.283185307179586,  00.6421038072669880e-00],\n",
        "    [lambda x: np.sin(500 * x),     0,  6.283185307179586,  1.70542536907921200e-14]    \n",
        "])\n",
        "\"\"\"\n",
        "\n",
        "tests_data = np.array([\n",
        "    [lambda x: x,                   0,  1],\n",
        "    [lambda x: x ** 2,              0,  1],\n",
        "    [lambda x: 6 * x ** 2 + 5 * x,  1,  3],\n",
        "    [lambda x: np.log(x),           1,  10],\n",
        "    [lambda x: np.sin(x),           0,  6.283185307179586],\n",
        "    [lambda x: np.sin(x ** 2),      0,  6.283185307179586],\n",
        "    [lambda x: np.sin(500 * x),     0,  6.283185307179586]    \n",
        "])\n",
        "\n",
        "wolfram_approximations = np.array([\n",
        "    00.4999999999999999e-00,\n",
        "    00.3333340026746880e-00,\n",
        "    72.0000321283850200e-00,\n",
        "    14.0258265327417000e-00,\n",
        "    03.5941550175457040e-16,\n",
        "    00.6421038072669880e-00,\n",
        "    1.70542536907921200e-14\n",
        "], dtype=np.float64)\n",
        "\n",
        "def writeBin(x, y):\n",
        "    with open('input.bin', 'wb') as file:\n",
        "        file.write(x[0])\n",
        "        file.write(x[-1])\n",
        "        file.write(y)\n",
        "        file.close()\n",
        "\n",
        "def main():\n",
        "    with open('input.bin', 'wb') as file:\n",
        "\n",
        "        for [function, a, b, toolResults] in tests_data:\n",
        "            x = np.linspace(a, b, num=500, dtype=np.float64)\n",
        "\n",
        "            constants = np.array([toolResults, a, b], dtype=np.float64)\n",
        "            y = function(x)\n",
        "\n",
        "            data = np.concatenate((constants, y))\n",
        "\n",
        "            file.write(data)\n",
        "\n",
        "            expected = np.sum(y[1:-1])\n",
        "            expected += (y[0] + y[-1]) / 2.0\n",
        "            expected *= (x[-1] - x[0]) / 499.0\n",
        "\n",
        "            print(\"{:e}\".format(abs(toolResults - expected)))\n",
        "        \n",
        "\n",
        "        file.close()\n",
        "\n",
        "\n",
        "if __name__ == '__main__':\n",
        "    main()"
      ]
    }
  ]
}