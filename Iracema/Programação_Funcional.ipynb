{
  "nbformat": 4,
  "nbformat_minor": 0,
  "metadata": {
    "colab": {
      "provenance": []
    },
    "kernelspec": {
      "name": "python3",
      "display_name": "Python 3"
    },
    "language_info": {
      "name": "python"
    }
  },
  "cells": [
    {
      "cell_type": "markdown",
      "source": [
        "# Programação Funcional\n",
        "### Conjunto de recursos que facilitam a vida do desenvolvedor, mas que podem dificultar a legibilidade do código. Devem ser usados com moderação"
      ],
      "metadata": {
        "id": "ylZBa_dUe08P"
      }
    },
    {
      "cell_type": "markdown",
      "source": [
        "# Função Lambda"
      ],
      "metadata": {
        "id": "GCu9RMVQe_uG"
      }
    },
    {
      "cell_type": "code",
      "execution_count": null,
      "metadata": {
        "colab": {
          "base_uri": "https://localhost:8080/"
        },
        "id": "Qqrhiij8eeNW",
        "outputId": "e30cd85c-5a21-4fdc-883a-157937d9dfc7"
      },
      "outputs": [
        {
          "output_type": "execute_result",
          "data": {
            "text/plain": [
              "9"
            ]
          },
          "metadata": {},
          "execution_count": 1
        }
      ],
      "source": [
        "def f_def(x):\n",
        "  return x ** 2\n",
        "\n",
        "f_def(3)"
      ]
    },
    {
      "cell_type": "code",
      "source": [
        "f_lambda = lambda x: x ** 2\n",
        "f_lambda(4)"
      ],
      "metadata": {
        "colab": {
          "base_uri": "https://localhost:8080/"
        },
        "id": "lm-pY-Y7fRuG",
        "outputId": "8ba357bb-940c-49d0-bf10-dd455741db48"
      },
      "execution_count": null,
      "outputs": [
        {
          "output_type": "execute_result",
          "data": {
            "text/plain": [
              "16"
            ]
          },
          "metadata": {},
          "execution_count": 3
        }
      ]
    },
    {
      "cell_type": "code",
      "source": [
        "f_odd = lambda x: x % 2 == 1 # x mod 2\n",
        "f_odd(3)"
      ],
      "metadata": {
        "colab": {
          "base_uri": "https://localhost:8080/"
        },
        "id": "wMxZV04pfYdu",
        "outputId": "2f191e54-7fbf-4362-b788-23e064e2e211"
      },
      "execution_count": null,
      "outputs": [
        {
          "output_type": "execute_result",
          "data": {
            "text/plain": [
              "False"
            ]
          },
          "metadata": {},
          "execution_count": 6
        }
      ]
    },
    {
      "cell_type": "markdown",
      "source": [
        "# Map"
      ],
      "metadata": {
        "id": "bgQxtWJtfuYe"
      }
    },
    {
      "cell_type": "code",
      "source": [
        "import numpy as np\n",
        "\n",
        "l = [1, 2, 3, 4, 5]\n",
        "l"
      ],
      "metadata": {
        "colab": {
          "base_uri": "https://localhost:8080/"
        },
        "id": "vz2ckKxXfpzu",
        "outputId": "f512efb6-78ab-4464-f8a9-34fc801720ca"
      },
      "execution_count": null,
      "outputs": [
        {
          "output_type": "execute_result",
          "data": {
            "text/plain": [
              "[1, 2, 3, 4, 5]"
            ]
          },
          "metadata": {},
          "execution_count": 31
        }
      ]
    },
    {
      "cell_type": "code",
      "source": [
        "def f(x):\n",
        "  return x ** 2\n",
        "\n",
        "list(map(f, l))"
      ],
      "metadata": {
        "colab": {
          "base_uri": "https://localhost:8080/"
        },
        "id": "u124DqSzf33u",
        "outputId": "81d406a4-af79-4477-a238-4f36b5799668"
      },
      "execution_count": null,
      "outputs": [
        {
          "output_type": "execute_result",
          "data": {
            "text/plain": [
              "[1, 4, 9, 16, 25]"
            ]
          },
          "metadata": {},
          "execution_count": 9
        }
      ]
    },
    {
      "cell_type": "code",
      "source": [
        "list(map(lambda x: x ** 2, l))"
      ],
      "metadata": {
        "colab": {
          "base_uri": "https://localhost:8080/"
        },
        "id": "rfE5p3mfgFbO",
        "outputId": "6beb45bb-7aae-4f1b-85de-2fed2b7b034a"
      },
      "execution_count": null,
      "outputs": [
        {
          "output_type": "execute_result",
          "data": {
            "text/plain": [
              "[1, 4, 9, 16, 25]"
            ]
          },
          "metadata": {},
          "execution_count": 11
        }
      ]
    },
    {
      "cell_type": "code",
      "source": [
        "np.mean(l)"
      ],
      "metadata": {
        "colab": {
          "base_uri": "https://localhost:8080/"
        },
        "id": "7e2ush4wiM_5",
        "outputId": "f6dfc6dc-f6b6-4199-f774-0ab6f2cc7259"
      },
      "execution_count": null,
      "outputs": [
        {
          "output_type": "execute_result",
          "data": {
            "text/plain": [
              "3.0"
            ]
          },
          "metadata": {},
          "execution_count": 32
        }
      ]
    },
    {
      "cell_type": "code",
      "source": [
        "list(map(\n",
        "    lambda x: x - np.mean(l),\n",
        "    l\n",
        "))"
      ],
      "metadata": {
        "colab": {
          "base_uri": "https://localhost:8080/"
        },
        "id": "pfnL9_KNiJ35",
        "outputId": "46f48982-2fa7-463b-95dc-f1f824ec58d5"
      },
      "execution_count": null,
      "outputs": [
        {
          "output_type": "execute_result",
          "data": {
            "text/plain": [
              "[-2.0, -1.0, 0.0, 1.0, 2.0]"
            ]
          },
          "metadata": {},
          "execution_count": 33
        }
      ]
    },
    {
      "cell_type": "code",
      "source": [
        "list(map(\n",
        "    lambda x: np.abs(x - np.mean(l)),\n",
        "    l\n",
        "))"
      ],
      "metadata": {
        "colab": {
          "base_uri": "https://localhost:8080/"
        },
        "id": "fwVjPvNhiaIq",
        "outputId": "dbd6270d-d908-42bb-ca27-84ff92bb6c33"
      },
      "execution_count": null,
      "outputs": [
        {
          "output_type": "execute_result",
          "data": {
            "text/plain": [
              "[2.0, 1.0, 0.0, 1.0, 2.0]"
            ]
          },
          "metadata": {},
          "execution_count": 35
        }
      ]
    },
    {
      "cell_type": "code",
      "source": [
        "def min_max_scaler(x):\n",
        "  return (x - np.min(l))/(np.max(l) - np.min(l))\n",
        "\n",
        "list(map(min_max_scaler, l))"
      ],
      "metadata": {
        "colab": {
          "base_uri": "https://localhost:8080/"
        },
        "id": "1U-ntG_PihhL",
        "outputId": "2d5afa8b-4c55-4988-b5e4-3969d3ea98fa"
      },
      "execution_count": null,
      "outputs": [
        {
          "output_type": "execute_result",
          "data": {
            "text/plain": [
              "[0.0, 0.25, 0.5, 0.75, 1.0]"
            ]
          },
          "metadata": {},
          "execution_count": 36
        }
      ]
    },
    {
      "cell_type": "code",
      "source": [
        "list(map(lambda x: (x - np.min(l))/(np.max(l) - np.min(l)), l))"
      ],
      "metadata": {
        "colab": {
          "base_uri": "https://localhost:8080/"
        },
        "id": "Ju5I26iGjWas",
        "outputId": "b79cb92c-14da-49df-eb3e-a4467ce6b0e3"
      },
      "execution_count": null,
      "outputs": [
        {
          "output_type": "execute_result",
          "data": {
            "text/plain": [
              "[0.0, 0.25, 0.5, 0.75, 1.0]"
            ]
          },
          "metadata": {},
          "execution_count": 37
        }
      ]
    },
    {
      "cell_type": "markdown",
      "source": [
        "# Filter"
      ],
      "metadata": {
        "id": "PTQ1Zyj9gYQn"
      }
    },
    {
      "cell_type": "code",
      "source": [
        "import numpy as np\n",
        "\n",
        "v = np.random.randint(1, 10, size=10)\n",
        "v"
      ],
      "metadata": {
        "colab": {
          "base_uri": "https://localhost:8080/"
        },
        "id": "0fCibepxgWVf",
        "outputId": "db198b14-d110-4be6-b503-ff5f8a3684b8"
      },
      "execution_count": null,
      "outputs": [
        {
          "output_type": "execute_result",
          "data": {
            "text/plain": [
              "array([5, 5, 9, 5, 3, 8, 5, 6, 8, 4])"
            ]
          },
          "metadata": {},
          "execution_count": 14
        }
      ]
    },
    {
      "cell_type": "code",
      "source": [
        "v[v>4]"
      ],
      "metadata": {
        "colab": {
          "base_uri": "https://localhost:8080/"
        },
        "id": "7dut67_Yghym",
        "outputId": "3afb95a9-34c5-4516-8ab6-126aa5503d85"
      },
      "execution_count": null,
      "outputs": [
        {
          "output_type": "execute_result",
          "data": {
            "text/plain": [
              "array([5, 5, 9, 5, 8, 5, 6, 8])"
            ]
          },
          "metadata": {},
          "execution_count": 15
        }
      ]
    },
    {
      "cell_type": "code",
      "source": [
        "def f(x):\n",
        "  return x % 2 == 0\n",
        "\n",
        "list(filter(f, v))"
      ],
      "metadata": {
        "colab": {
          "base_uri": "https://localhost:8080/"
        },
        "id": "-rc4MH79gk0-",
        "outputId": "cd51e8d4-9390-4dfc-eb68-ce903fe00911"
      },
      "execution_count": null,
      "outputs": [
        {
          "output_type": "execute_result",
          "data": {
            "text/plain": [
              "[8, 6, 8, 4]"
            ]
          },
          "metadata": {},
          "execution_count": 17
        }
      ]
    },
    {
      "cell_type": "code",
      "source": [
        "list(filter(lambda x: x % 2 == 0, v))"
      ],
      "metadata": {
        "colab": {
          "base_uri": "https://localhost:8080/"
        },
        "id": "nj2-l08vg9X-",
        "outputId": "7e68d8b3-9133-4059-a1b3-d73fb26ac63a"
      },
      "execution_count": null,
      "outputs": [
        {
          "output_type": "execute_result",
          "data": {
            "text/plain": [
              "[8, 6, 8, 4]"
            ]
          },
          "metadata": {},
          "execution_count": 18
        }
      ]
    },
    {
      "cell_type": "code",
      "source": [
        "v[list(map(lambda x: x%2, v))]"
      ],
      "metadata": {
        "colab": {
          "base_uri": "https://localhost:8080/"
        },
        "id": "zCCwYqlyhHCf",
        "outputId": "031a7fe3-42ec-4b05-8073-da0142dedd94"
      },
      "execution_count": null,
      "outputs": [
        {
          "output_type": "execute_result",
          "data": {
            "text/plain": [
              "array([5, 5, 5, 5, 5, 5, 5, 5, 5, 5])"
            ]
          },
          "metadata": {},
          "execution_count": 25
        }
      ]
    },
    {
      "cell_type": "code",
      "source": [
        "list(filter(lambda x: x % 2, v))"
      ],
      "metadata": {
        "colab": {
          "base_uri": "https://localhost:8080/"
        },
        "id": "8vs_gaKrhWMe",
        "outputId": "1daf0063-1e73-45b1-d773-479847535f51"
      },
      "execution_count": null,
      "outputs": [
        {
          "output_type": "execute_result",
          "data": {
            "text/plain": [
              "[5, 5, 9, 5, 3, 5]"
            ]
          },
          "metadata": {},
          "execution_count": 28
        }
      ]
    },
    {
      "cell_type": "code",
      "source": [
        "def f_3(x):\n",
        "  return (x % 3 == 1) or (x % 3 == 2)\n",
        "\n",
        "list(filter(f_3, v))"
      ],
      "metadata": {
        "colab": {
          "base_uri": "https://localhost:8080/"
        },
        "id": "wQLznNOchiP1",
        "outputId": "b4a6d12c-ec48-48b1-fd16-98d94f3b79ab"
      },
      "execution_count": null,
      "outputs": [
        {
          "output_type": "execute_result",
          "data": {
            "text/plain": [
              "[5, 5, 5, 8, 5, 8, 4]"
            ]
          },
          "metadata": {},
          "execution_count": 29
        }
      ]
    },
    {
      "cell_type": "code",
      "source": [
        "list(filter(\n",
        "    lambda x: (x % 3 == 1) or (x % 3 == 2),\n",
        "    v\n",
        "))"
      ],
      "metadata": {
        "colab": {
          "base_uri": "https://localhost:8080/"
        },
        "id": "gdyRe0P7hz6W",
        "outputId": "2fa3693b-472a-4cc0-86de-17e14d1eb0dd"
      },
      "execution_count": null,
      "outputs": [
        {
          "output_type": "execute_result",
          "data": {
            "text/plain": [
              "[5, 5, 5, 8, 5, 8, 4]"
            ]
          },
          "metadata": {},
          "execution_count": 30
        }
      ]
    },
    {
      "cell_type": "markdown",
      "source": [
        "# Ordenação Customizada"
      ],
      "metadata": {
        "id": "cmcjGK8MjdS7"
      }
    },
    {
      "cell_type": "code",
      "source": [
        "# v = [1, 2, 3, 4, 5, 6, 7, 8]\n",
        "# => [3, 2, 4, 1, 5, 6, 7, 8]\n",
        "# f(v) => [2, 1, 0, 1, 2, 3, 4, 5] => [0, 1, 1, 2, 2, 3, 4, 5] => v[[0, 1, 1, 2, 2, 3, 4, 5]]"
      ],
      "metadata": {
        "id": "b41EVh8vh6oW"
      },
      "execution_count": null,
      "outputs": []
    },
    {
      "cell_type": "code",
      "source": [
        "v4 = [1, 2, 3, 4, 5, 6, 7, 8]\n",
        "sorted(v4)"
      ],
      "metadata": {
        "colab": {
          "base_uri": "https://localhost:8080/"
        },
        "id": "4lD83nL_j-ML",
        "outputId": "f7f67ba4-c547-4da3-add2-785907c1a809"
      },
      "execution_count": null,
      "outputs": [
        {
          "output_type": "execute_result",
          "data": {
            "text/plain": [
              "[1, 2, 3, 4, 5, 6, 7, 8]"
            ]
          },
          "metadata": {},
          "execution_count": 39
        }
      ]
    },
    {
      "cell_type": "code",
      "source": [
        "sorted(v4, key = lambda x: abs(x-3))"
      ],
      "metadata": {
        "colab": {
          "base_uri": "https://localhost:8080/"
        },
        "id": "6YR1ofaqkH3k",
        "outputId": "5f5b7dd5-bea6-4552-e9dc-b4480322f785"
      },
      "execution_count": null,
      "outputs": [
        {
          "output_type": "execute_result",
          "data": {
            "text/plain": [
              "[3, 2, 4, 1, 5, 6, 7, 8]"
            ]
          },
          "metadata": {},
          "execution_count": 44
        }
      ]
    },
    {
      "cell_type": "code",
      "source": [
        "sorted(v4, key = lambda x: 1/x)"
      ],
      "metadata": {
        "colab": {
          "base_uri": "https://localhost:8080/"
        },
        "id": "YcIZoN0nkgFD",
        "outputId": "a1e9bb31-e5a1-43d9-8718-5caba5af4748"
      },
      "execution_count": null,
      "outputs": [
        {
          "output_type": "execute_result",
          "data": {
            "text/plain": [
              "[8, 7, 6, 5, 4, 3, 2, 1]"
            ]
          },
          "metadata": {},
          "execution_count": 48
        }
      ]
    },
    {
      "cell_type": "markdown",
      "source": [
        "# Solução da Q01"
      ],
      "metadata": {
        "id": "L-puGlCul2I8"
      }
    },
    {
      "cell_type": "code",
      "source": [
        "x = 3\n",
        "x % 2 == 0"
      ],
      "metadata": {
        "colab": {
          "base_uri": "https://localhost:8080/"
        },
        "id": "3da982NYl47z",
        "outputId": "0fd6d039-8038-4a6b-b91f-e230d6202056"
      },
      "execution_count": null,
      "outputs": [
        {
          "output_type": "execute_result",
          "data": {
            "text/plain": [
              "False"
            ]
          },
          "metadata": {},
          "execution_count": 50
        }
      ]
    },
    {
      "cell_type": "code",
      "source": [
        "x % 2"
      ],
      "metadata": {
        "colab": {
          "base_uri": "https://localhost:8080/"
        },
        "id": "UrkxD7Uml84v",
        "outputId": "6f65fd64-275c-4dd0-e054-6f7c539382e0"
      },
      "execution_count": null,
      "outputs": [
        {
          "output_type": "execute_result",
          "data": {
            "text/plain": [
              "1"
            ]
          },
          "metadata": {},
          "execution_count": 51
        }
      ]
    },
    {
      "cell_type": "code",
      "source": [
        "list(filter(lambda x: x%2 == 0, [1, 2, 3, 4]))"
      ],
      "metadata": {
        "colab": {
          "base_uri": "https://localhost:8080/"
        },
        "id": "NozGYHAWmBVO",
        "outputId": "ab610b99-b445-41ef-a9f8-9b39a40b1ba4"
      },
      "execution_count": null,
      "outputs": [
        {
          "output_type": "execute_result",
          "data": {
            "text/plain": [
              "[2, 4]"
            ]
          },
          "metadata": {},
          "execution_count": 53
        }
      ]
    },
    {
      "cell_type": "code",
      "source": [
        "list(filter(lambda x:not (x%2), [1, 2, 3, 4]))"
      ],
      "metadata": {
        "colab": {
          "base_uri": "https://localhost:8080/"
        },
        "id": "i4NXXyuAmIMh",
        "outputId": "39abb8c0-e430-4a22-860b-705c9508b389"
      },
      "execution_count": null,
      "outputs": [
        {
          "output_type": "execute_result",
          "data": {
            "text/plain": [
              "[2, 4]"
            ]
          },
          "metadata": {},
          "execution_count": 55
        }
      ]
    },
    {
      "cell_type": "markdown",
      "source": [
        "#Solução da Q02"
      ],
      "metadata": {
        "id": "fkEr7vkpmkfc"
      }
    },
    {
      "cell_type": "code",
      "source": [
        "def f(x):\n",
        "  return x ** 2\n",
        "\n",
        "list(map(f, l))"
      ],
      "metadata": {
        "colab": {
          "base_uri": "https://localhost:8080/"
        },
        "id": "SEVCV96xml6U",
        "outputId": "b98352b3-646e-4521-94bb-603c69790ec5"
      },
      "execution_count": null,
      "outputs": [
        {
          "output_type": "execute_result",
          "data": {
            "text/plain": [
              "[1, 4, 9, 16, 25]"
            ]
          },
          "metadata": {},
          "execution_count": 56
        }
      ]
    },
    {
      "cell_type": "code",
      "source": [
        "list(map(lambda x: x ** 2, l))"
      ],
      "metadata": {
        "colab": {
          "base_uri": "https://localhost:8080/"
        },
        "id": "z3M4bsn5m2DD",
        "outputId": "f23dc1e1-7d88-410a-9147-bca31e8338fb"
      },
      "execution_count": null,
      "outputs": [
        {
          "output_type": "execute_result",
          "data": {
            "text/plain": [
              "[1, 4, 9, 16, 25]"
            ]
          },
          "metadata": {},
          "execution_count": 57
        }
      ]
    },
    {
      "cell_type": "markdown",
      "source": [
        "#Solução da Q03"
      ],
      "metadata": {
        "id": "0ukv3csbnA1C"
      }
    },
    {
      "cell_type": "code",
      "source": [
        "u = [4, 5, 2, 9, 7, 10, 3, 11, 20]"
      ],
      "metadata": {
        "id": "rM21HEUdnDHB"
      },
      "execution_count": null,
      "outputs": []
    },
    {
      "cell_type": "code",
      "source": [
        "list(filter(\n",
        "    lambda x: (x % 4 == 1) or (x % 4 == 2),\n",
        "    u\n",
        "))"
      ],
      "metadata": {
        "colab": {
          "base_uri": "https://localhost:8080/"
        },
        "id": "iUjD0rBcnn6R",
        "outputId": "bce91732-e620-4197-a881-ec0c4d2289bd"
      },
      "execution_count": null,
      "outputs": [
        {
          "output_type": "execute_result",
          "data": {
            "text/plain": [
              "[5, 2, 9, 10]"
            ]
          },
          "metadata": {},
          "execution_count": 59
        }
      ]
    },
    {
      "cell_type": "code",
      "source": [
        "list(filter(\n",
        "    lambda x: (x % 4 != 3) and (x % 4 != 0),\n",
        "    u\n",
        "))"
      ],
      "metadata": {
        "colab": {
          "base_uri": "https://localhost:8080/"
        },
        "id": "GR-qw7Xxn2qS",
        "outputId": "493d62dc-18d5-4daa-c8a2-08c67b975ca3"
      },
      "execution_count": null,
      "outputs": [
        {
          "output_type": "execute_result",
          "data": {
            "text/plain": [
              "[5, 2, 9, 10]"
            ]
          },
          "metadata": {},
          "execution_count": 61
        }
      ]
    },
    {
      "cell_type": "markdown",
      "source": [
        "# Solução da Q04"
      ],
      "metadata": {
        "id": "9qn9YAuxod0h"
      }
    },
    {
      "cell_type": "code",
      "source": [
        "l = np.array([3, 4, 1, 8, 2])"
      ],
      "metadata": {
        "id": "H0SH1PWpoizs"
      },
      "execution_count": null,
      "outputs": []
    },
    {
      "cell_type": "code",
      "source": [
        "list(map(\n",
        "    lambda x: np.abs(x - np.median(l)),\n",
        "    l\n",
        "))"
      ],
      "metadata": {
        "colab": {
          "base_uri": "https://localhost:8080/"
        },
        "id": "6n2oRH5zpaAk",
        "outputId": "29015d59-ba91-4ad1-feed-6824ccd5e4bb"
      },
      "execution_count": null,
      "outputs": [
        {
          "output_type": "execute_result",
          "data": {
            "text/plain": [
              "[2.0, 1.0, 0.0, 1.0, 2.0]"
            ]
          },
          "metadata": {},
          "execution_count": 63
        }
      ]
    },
    {
      "cell_type": "code",
      "source": [
        "def f_5(v):\n",
        "  median = np.median(v)\n",
        "  for i in range(0, len(v)):\n",
        "    v[i] = abs(v[i] - median)\n",
        "  return v\n",
        "\n",
        "f_5(l)"
      ],
      "metadata": {
        "colab": {
          "base_uri": "https://localhost:8080/"
        },
        "id": "zrNRTA63pwyJ",
        "outputId": "28d0f07d-0dac-4685-c097-c94d771e0c04"
      },
      "execution_count": null,
      "outputs": [
        {
          "output_type": "execute_result",
          "data": {
            "text/plain": [
              "[2.0, 1.0, 0.0, 1.0, 2.0]"
            ]
          },
          "metadata": {},
          "execution_count": 65
        }
      ]
    }
  ]
}