{
  "nbformat": 4,
  "nbformat_minor": 0,
  "metadata": {
    "colab": {
      "provenance": []
    },
    "kernelspec": {
      "name": "python3",
      "display_name": "Python 3"
    }
  },
  "cells": [
    {
      "cell_type": "markdown",
      "metadata": {
        "id": "GRBqjZC8MS4c"
      },
      "source": [
        "# O que é o NumPy?\n",
        "* É uma biblioteca que implementa diversas funções de álgebra linear, como operações vetoriais, cálculos com matrizes etc.\n",
        "* É a base para um estudo mais aprofundado de algoritmos de aprendizado de máquina e aprendizado profundo.\n",
        "\n",
        "\n"
      ]
    },
    {
      "cell_type": "code",
      "metadata": {
        "id": "58F4d_tAJFp_"
      },
      "source": [
        "import numpy as np"
      ],
      "execution_count": null,
      "outputs": []
    },
    {
      "cell_type": "markdown",
      "metadata": {
        "id": "KR2uDnY5XU4z"
      },
      "source": [
        "#Criação e Indexação de Arrays"
      ]
    },
    {
      "cell_type": "code",
      "source": [
        "# CRIA LISTA E ARRAY\n",
        "v = [[1, 2, 3], [4, 5, 6], [7, 8, 9]]\n",
        "np_v = np.array(v)\n",
        "\n",
        "np_v"
      ],
      "metadata": {
        "colab": {
          "base_uri": "https://localhost:8080/"
        },
        "id": "aOxhZVum3w7Z",
        "outputId": "b164bb5d-14c7-478f-d716-b2dbe8604c18"
      },
      "execution_count": null,
      "outputs": [
        {
          "output_type": "execute_result",
          "data": {
            "text/plain": [
              "array([[1, 2, 3],\n",
              "       [4, 5, 6],\n",
              "       [7, 8, 9]])"
            ]
          },
          "metadata": {},
          "execution_count": 4
        }
      ]
    },
    {
      "cell_type": "code",
      "source": [
        "# CRIA ARRAY UTILIZANDO FUNÇÃO\n",
        "array1 = np.arange(0, 10)\n",
        "array1"
      ],
      "metadata": {
        "colab": {
          "base_uri": "https://localhost:8080/"
        },
        "id": "T525LQ7s4IGv",
        "outputId": "ea97c009-d2f7-4507-ffa2-ab317fc60c42"
      },
      "execution_count": null,
      "outputs": [
        {
          "output_type": "execute_result",
          "data": {
            "text/plain": [
              "array([0, 1, 2, 3, 4, 5, 6, 7, 8, 9])"
            ]
          },
          "metadata": {},
          "execution_count": 5
        }
      ]
    },
    {
      "cell_type": "markdown",
      "metadata": {
        "id": "90_lCVv5XQBF"
      },
      "source": [
        "#Generation"
      ]
    },
    {
      "cell_type": "code",
      "metadata": {
        "colab": {
          "base_uri": "https://localhost:8080/"
        },
        "id": "8De9L8z2PNG5",
        "outputId": "b97d94c0-1891-4985-9af3-8b99752f3a02"
      },
      "source": [
        "array1 = np.arange(0, 10) # array range\n",
        "array1\n",
        "\n"
      ],
      "execution_count": null,
      "outputs": [
        {
          "output_type": "execute_result",
          "data": {
            "text/plain": [
              "array([0, 1, 2, 3, 4, 5, 6, 7, 8, 9])"
            ]
          },
          "metadata": {
            "tags": []
          },
          "execution_count": 9
        }
      ]
    },
    {
      "cell_type": "code",
      "metadata": {
        "colab": {
          "base_uri": "https://localhost:8080/"
        },
        "id": "V3FGjBLCufsW",
        "outputId": "8977368d-45d3-4e40-ff63-6468d103fe47"
      },
      "source": [
        "array2 = np.arange(0, 10, 2)\n",
        "array2"
      ],
      "execution_count": null,
      "outputs": [
        {
          "output_type": "execute_result",
          "data": {
            "text/plain": [
              "array([0, 2, 4, 6, 8])"
            ]
          },
          "metadata": {
            "tags": []
          },
          "execution_count": 10
        }
      ]
    },
    {
      "cell_type": "code",
      "metadata": {
        "colab": {
          "base_uri": "https://localhost:8080/"
        },
        "id": "pXz7CUZqPmJu",
        "outputId": "5a748e69-2d98-499f-c5db-085765ff55d8"
      },
      "source": [
        "zeros1d = np.zeros(5)\n",
        "print(zeros1d)"
      ],
      "execution_count": null,
      "outputs": [
        {
          "output_type": "stream",
          "text": [
            "[0. 0. 0. 0. 0.]\n"
          ],
          "name": "stdout"
        }
      ]
    },
    {
      "cell_type": "code",
      "metadata": {
        "colab": {
          "base_uri": "https://localhost:8080/"
        },
        "id": "G6sRuuj9urAj",
        "outputId": "ca02e6df-af14-4c53-ef4f-c621d5705aea"
      },
      "source": [
        "ones1d = np.ones(10)\n",
        "ones1d"
      ],
      "execution_count": null,
      "outputs": [
        {
          "output_type": "execute_result",
          "data": {
            "text/plain": [
              "array([1., 1., 1., 1., 1., 1., 1., 1., 1., 1.])"
            ]
          },
          "metadata": {
            "tags": []
          },
          "execution_count": 13
        }
      ]
    },
    {
      "cell_type": "code",
      "metadata": {
        "colab": {
          "base_uri": "https://localhost:8080/"
        },
        "id": "PbPpq2_uuotu",
        "outputId": "412ad5d0-51cd-4cd5-ae7e-2b4fe5d60b33"
      },
      "source": [
        "zeros2d = np.zeros((3,4))\n",
        "zeros2d"
      ],
      "execution_count": null,
      "outputs": [
        {
          "output_type": "execute_result",
          "data": {
            "text/plain": [
              "array([[0., 0., 0., 0.],\n",
              "       [0., 0., 0., 0.],\n",
              "       [0., 0., 0., 0.]])"
            ]
          },
          "metadata": {
            "tags": []
          },
          "execution_count": 14
        }
      ]
    },
    {
      "cell_type": "code",
      "metadata": {
        "colab": {
          "base_uri": "https://localhost:8080/"
        },
        "id": "TRziAyYTfygm",
        "outputId": "e9606708-ff21-43a0-9577-e8e9a3966019"
      },
      "source": [
        "identity = np.eye(3)\n",
        "identity"
      ],
      "execution_count": null,
      "outputs": [
        {
          "output_type": "execute_result",
          "data": {
            "text/plain": [
              "array([[1., 0., 0.],\n",
              "       [0., 1., 0.],\n",
              "       [0., 0., 1.]])"
            ]
          },
          "metadata": {
            "tags": []
          },
          "execution_count": 15
        }
      ]
    },
    {
      "cell_type": "code",
      "metadata": {
        "colab": {
          "base_uri": "https://localhost:8080/"
        },
        "id": "MIt8DPNUigwq",
        "outputId": "afaae725-c306-4a4f-d69a-2b273426860c"
      },
      "source": [
        "my_array = np.linspace(0, 10, 3) # cria array com três números igualmente esparsados, dentre os quais o maior é 10.\n",
        "my_array"
      ],
      "execution_count": null,
      "outputs": [
        {
          "output_type": "execute_result",
          "data": {
            "text/plain": [
              "array([ 0.,  5., 10.])"
            ]
          },
          "metadata": {
            "tags": []
          },
          "execution_count": 16
        }
      ]
    },
    {
      "cell_type": "code",
      "metadata": {
        "colab": {
          "base_uri": "https://localhost:8080/"
        },
        "id": "g6-DwEf1u8gy",
        "outputId": "a9bc882f-01f5-45e2-bcc4-ec58f45005aa"
      },
      "source": [
        "my_array2 = np.linspace(0, 10, 17)\n",
        "print(my_array2)"
      ],
      "execution_count": null,
      "outputs": [
        {
          "output_type": "stream",
          "text": [
            "[ 0.     0.625  1.25   1.875  2.5    3.125  3.75   4.375  5.     5.625\n",
            "  6.25   6.875  7.5    8.125  8.75   9.375 10.   ]\n"
          ],
          "name": "stdout"
        }
      ]
    },
    {
      "cell_type": "markdown",
      "metadata": {
        "id": "9MAj7IQSXJtc"
      },
      "source": [
        "#Criação de Arrays Aleatórios"
      ]
    },
    {
      "cell_type": "code",
      "metadata": {
        "colab": {
          "base_uri": "https://localhost:8080/"
        },
        "id": "xb32ppK33mWG",
        "outputId": "d07b1410-05a8-41bd-afd7-906778f4bacd"
      },
      "source": [
        "my_array = np.random.rand(2, 3)\n",
        "my_array"
      ],
      "execution_count": null,
      "outputs": [
        {
          "output_type": "execute_result",
          "data": {
            "text/plain": [
              "array([[0.77916909, 0.37098185, 0.44200408],\n",
              "       [0.85013279, 0.96850281, 0.48926614]])"
            ]
          },
          "metadata": {
            "tags": []
          },
          "execution_count": 22
        }
      ]
    },
    {
      "cell_type": "code",
      "metadata": {
        "colab": {
          "base_uri": "https://localhost:8080/"
        },
        "id": "ieKXS6qo3sRi",
        "outputId": "7ebb3864-fbbc-4443-d8da-1208507b4afe"
      },
      "source": [
        "my_array2 = np.random.rand(3)\n",
        "my_array2"
      ],
      "execution_count": null,
      "outputs": [
        {
          "output_type": "execute_result",
          "data": {
            "text/plain": [
              "array([0.16727606, 0.95043843, 0.09533955])"
            ]
          },
          "metadata": {
            "tags": []
          },
          "execution_count": 23
        }
      ]
    },
    {
      "cell_type": "code",
      "metadata": {
        "colab": {
          "base_uri": "https://localhost:8080/"
        },
        "id": "jUIUGNMi3y-H",
        "outputId": "3be89f79-f31e-4e43-a4dd-123412a44cb7"
      },
      "source": [
        "my_array3 = np.random.randn(3) # standard normal distribution (mean = 0, variance = 1)\n",
        "my_array3"
      ],
      "execution_count": null,
      "outputs": [
        {
          "output_type": "execute_result",
          "data": {
            "text/plain": [
              "array([-1.15210575,  0.19401273, -0.40359394])"
            ]
          },
          "metadata": {
            "tags": []
          },
          "execution_count": 24
        }
      ]
    },
    {
      "cell_type": "code",
      "metadata": {
        "colab": {
          "base_uri": "https://localhost:8080/"
        },
        "id": "bw1Fbex638U7",
        "outputId": "60718831-c9df-4ccd-ac6d-98f70cd857a8"
      },
      "source": [
        "my_array = np.random.randn(100000) # standard normal distribution (mean = 0, variance = 1)\n",
        "np.mean(my_array)"
      ],
      "execution_count": null,
      "outputs": [
        {
          "output_type": "execute_result",
          "data": {
            "text/plain": [
              "0.0045525232099900784"
            ]
          },
          "metadata": {
            "tags": []
          },
          "execution_count": 31
        }
      ]
    },
    {
      "cell_type": "code",
      "metadata": {
        "colab": {
          "base_uri": "https://localhost:8080/"
        },
        "id": "cNbmIR5w4SRe",
        "outputId": "a72c5980-0567-4c26-d49c-7beff62ff8cd"
      },
      "source": [
        "np.var(my_array)"
      ],
      "execution_count": null,
      "outputs": [
        {
          "output_type": "execute_result",
          "data": {
            "text/plain": [
              "0.996320323395368"
            ]
          },
          "metadata": {
            "tags": []
          },
          "execution_count": 32
        }
      ]
    },
    {
      "cell_type": "code",
      "metadata": {
        "colab": {
          "base_uri": "https://localhost:8080/"
        },
        "id": "Z-0YFw4m4poE",
        "outputId": "ab3131df-4cc1-4ea1-f01d-b3ed35f309b0"
      },
      "source": [
        "np.random.randn(2, 3)"
      ],
      "execution_count": null,
      "outputs": [
        {
          "output_type": "execute_result",
          "data": {
            "text/plain": [
              "array([[-0.22104755,  0.33482788,  0.60729125],\n",
              "       [-1.13489152,  0.26767344,  1.51338926]])"
            ]
          },
          "metadata": {
            "tags": []
          },
          "execution_count": 33
        }
      ]
    },
    {
      "cell_type": "code",
      "metadata": {
        "colab": {
          "base_uri": "https://localhost:8080/"
        },
        "id": "ZJKjftFV4tHB",
        "outputId": "8e1c7007-f6b1-40f4-bfbc-2f31343bd7f8"
      },
      "source": [
        "np.random.randint(5, 100)"
      ],
      "execution_count": null,
      "outputs": [
        {
          "output_type": "execute_result",
          "data": {
            "text/plain": [
              "74"
            ]
          },
          "metadata": {
            "tags": []
          },
          "execution_count": 34
        }
      ]
    },
    {
      "cell_type": "code",
      "metadata": {
        "colab": {
          "base_uri": "https://localhost:8080/"
        },
        "id": "AimbSYq34xdL",
        "outputId": "a03c6139-1abe-4546-dbe8-62b8bb591903"
      },
      "source": [],
      "execution_count": null,
      "outputs": [
        {
          "output_type": "execute_result",
          "data": {
            "text/plain": [
              "array([20, 17, 37, 50])"
            ]
          },
          "metadata": {
            "tags": []
          },
          "execution_count": 35
        }
      ]
    },
    {
      "cell_type": "code",
      "metadata": {
        "colab": {
          "base_uri": "https://localhost:8080/"
        },
        "id": "nzmjKSPl41CB",
        "outputId": "f25cebd5-c776-4eef-a88a-c37a792515da"
      },
      "source": [
        "np.random.randint(5, 100, (2, 3))"
      ],
      "execution_count": null,
      "outputs": [
        {
          "output_type": "execute_result",
          "data": {
            "text/plain": [
              "array([[92, 28,  7],\n",
              "       [26, 57,  6]])"
            ]
          },
          "metadata": {},
          "execution_count": 9
        }
      ]
    },
    {
      "cell_type": "code",
      "metadata": {
        "colab": {
          "base_uri": "https://localhost:8080/"
        },
        "id": "d5WVhQ2DT-x0",
        "outputId": "ab37bf46-c98f-4136-a5b7-aee55b86ea1e"
      },
      "source": [
        "np.random.seed()\n",
        "array_seed = np.random.rand(3)\n",
        "array_seed"
      ],
      "execution_count": null,
      "outputs": [
        {
          "output_type": "execute_result",
          "data": {
            "text/plain": [
              "array([0.36797948, 0.47173681, 0.68031373])"
            ]
          },
          "metadata": {},
          "execution_count": 17
        }
      ]
    },
    {
      "cell_type": "code",
      "metadata": {
        "colab": {
          "base_uri": "https://localhost:8080/"
        },
        "id": "hPC8LY4b5IUs",
        "outputId": "1b4d8183-4a75-45c6-9232-479907e5fe4c"
      },
      "source": [
        "array_seed2 = np.random.rand(3)\n",
        "array_seed2"
      ],
      "execution_count": null,
      "outputs": [
        {
          "output_type": "execute_result",
          "data": {
            "text/plain": [
              "array([0.62545573, 0.48432148, 0.64025276])"
            ]
          },
          "metadata": {},
          "execution_count": 19
        }
      ]
    },
    {
      "cell_type": "markdown",
      "metadata": {
        "id": "di-D6b3IVIeS"
      },
      "source": [
        "#Redimensionalização\n"
      ]
    },
    {
      "cell_type": "markdown",
      "metadata": {
        "id": "bD1lbrrNXE4B"
      },
      "source": [
        "#Operações"
      ]
    },
    {
      "cell_type": "code",
      "metadata": {
        "id": "4h-uM0iU7-0g"
      },
      "source": [
        "arr1 = np.random.rand(6)\n",
        "arr1"
      ],
      "execution_count": null,
      "outputs": []
    },
    {
      "cell_type": "code",
      "metadata": {
        "id": "OdNilOnE8A2n"
      },
      "source": [
        "arr1.max()"
      ],
      "execution_count": null,
      "outputs": []
    },
    {
      "cell_type": "code",
      "metadata": {
        "colab": {
          "base_uri": "https://localhost:8080/"
        },
        "id": "6H-BL92L8DgG",
        "outputId": "2fda8ccb-78a4-45e1-fa92-b4a7da43f21e"
      },
      "source": [
        "arr1.argmax()"
      ],
      "execution_count": null,
      "outputs": [
        {
          "output_type": "execute_result",
          "data": {
            "text/plain": [
              "2"
            ]
          },
          "metadata": {
            "tags": []
          },
          "execution_count": 58
        }
      ]
    },
    {
      "cell_type": "code",
      "metadata": {
        "id": "pVn8a6Qr8HA_"
      },
      "source": [
        "arr1.min()"
      ],
      "execution_count": null,
      "outputs": []
    },
    {
      "cell_type": "code",
      "metadata": {
        "colab": {
          "base_uri": "https://localhost:8080/"
        },
        "id": "AHE6cw-w8Kqp",
        "outputId": "4aa14b53-dd0b-4f7d-d6b1-1e4982df6d07"
      },
      "source": [
        "arr1.argmin()"
      ],
      "execution_count": null,
      "outputs": [
        {
          "output_type": "execute_result",
          "data": {
            "text/plain": [
              "3"
            ]
          },
          "metadata": {
            "tags": []
          },
          "execution_count": 61
        }
      ]
    },
    {
      "cell_type": "code",
      "metadata": {
        "id": "59krmn5B8NUr"
      },
      "source": [
        "arr1.mean()"
      ],
      "execution_count": null,
      "outputs": []
    },
    {
      "cell_type": "code",
      "metadata": {
        "id": "EalSWQEL8RkJ"
      },
      "source": [
        "arr1"
      ],
      "execution_count": null,
      "outputs": []
    },
    {
      "cell_type": "code",
      "metadata": {
        "id": "QLPRDTZs8QNe"
      },
      "source": [
        "arr1.dtype"
      ],
      "execution_count": null,
      "outputs": []
    },
    {
      "cell_type": "code",
      "metadata": {
        "id": "B8vyFU6AO1lj"
      },
      "source": [
        "arr1 = np.random.rand(5)\n",
        "arr1\n"
      ],
      "execution_count": null,
      "outputs": []
    },
    {
      "cell_type": "code",
      "metadata": {
        "id": "OJA20veB8fl9"
      },
      "source": [
        "arr2 = arr1 + 5\n",
        "arr2"
      ],
      "execution_count": null,
      "outputs": []
    },
    {
      "cell_type": "code",
      "metadata": {
        "id": "u069MBuj8lW9"
      },
      "source": [
        "arr2 - 2\n"
      ],
      "execution_count": null,
      "outputs": []
    },
    {
      "cell_type": "code",
      "metadata": {
        "id": "mvtfVPVR8oan"
      },
      "source": [
        "arr1 + arr2 # arrays must be of the same shape\n"
      ],
      "execution_count": null,
      "outputs": []
    },
    {
      "cell_type": "code",
      "metadata": {
        "id": "W4lfVprK8vNb"
      },
      "source": [
        "arr1 * arr2"
      ],
      "execution_count": null,
      "outputs": []
    },
    {
      "cell_type": "code",
      "metadata": {
        "id": "QwuZ0iEFt0MP"
      },
      "source": [
        "arr1 ** 2"
      ],
      "execution_count": null,
      "outputs": []
    },
    {
      "cell_type": "code",
      "metadata": {
        "id": "xufMLUtP9B4y"
      },
      "source": [
        "arr1 / arr2"
      ],
      "execution_count": null,
      "outputs": []
    },
    {
      "cell_type": "code",
      "metadata": {
        "id": "_glGc4Cf9EcY"
      },
      "source": [
        "arr1 / np.zeros(len(arr1))"
      ],
      "execution_count": null,
      "outputs": []
    },
    {
      "cell_type": "code",
      "metadata": {
        "id": "cb3c7qbP9NUB"
      },
      "source": [
        "np.zeros(5) / np.zeros(5)"
      ],
      "execution_count": null,
      "outputs": []
    },
    {
      "cell_type": "code",
      "metadata": {
        "id": "lfcR0BTU9Z-Y"
      },
      "source": [
        "np.sqrt(arr1)"
      ],
      "execution_count": null,
      "outputs": []
    },
    {
      "cell_type": "code",
      "metadata": {
        "id": "mrahl_iC9c_C"
      },
      "source": [
        "np.sin(arr1)"
      ],
      "execution_count": null,
      "outputs": []
    },
    {
      "cell_type": "code",
      "metadata": {
        "id": "X1WqaEb_9c2p"
      },
      "source": [
        "np.cos(arr1)"
      ],
      "execution_count": null,
      "outputs": []
    },
    {
      "cell_type": "code",
      "metadata": {
        "id": "Pm5jGf7v9o2W"
      },
      "source": [
        "np.log(arr1)"
      ],
      "execution_count": null,
      "outputs": []
    },
    {
      "cell_type": "code",
      "metadata": {
        "id": "8MSJlDYv9vkk"
      },
      "source": [
        "arr1"
      ],
      "execution_count": null,
      "outputs": []
    },
    {
      "cell_type": "code",
      "metadata": {
        "id": "8WzI9-Vc961N"
      },
      "source": [
        "arr1.sum()"
      ],
      "execution_count": null,
      "outputs": []
    },
    {
      "cell_type": "code",
      "metadata": {
        "id": "NZV3POvK98Ku"
      },
      "source": [
        "arr1.mean()"
      ],
      "execution_count": null,
      "outputs": []
    },
    {
      "cell_type": "code",
      "metadata": {
        "id": "Cgw5wv1L99ZI"
      },
      "source": [
        "arr1.max()"
      ],
      "execution_count": null,
      "outputs": []
    },
    {
      "cell_type": "code",
      "metadata": {
        "id": "0AbjsoL09-xw"
      },
      "source": [
        "arr1.std()"
      ],
      "execution_count": null,
      "outputs": []
    },
    {
      "cell_type": "code",
      "metadata": {
        "id": "MbBal5ay-Cc-"
      },
      "source": [
        "arr1.var()"
      ],
      "execution_count": null,
      "outputs": []
    },
    {
      "cell_type": "code",
      "metadata": {
        "id": "gQ8KyD6H-Eza"
      },
      "source": [
        "((arr1 - arr1.mean())**2).mean()"
      ],
      "execution_count": null,
      "outputs": []
    },
    {
      "cell_type": "code",
      "metadata": {
        "id": "246lAasp-uSy"
      },
      "source": [
        "mat1 = np.random.randint(1, 20, (3, 2))\n",
        "mat1"
      ],
      "execution_count": null,
      "outputs": []
    },
    {
      "cell_type": "code",
      "metadata": {
        "id": "PebVzu39-6p7"
      },
      "source": [
        "mat2 = np.random.randint(5, 15, (2, 4))\n",
        "mat2"
      ],
      "execution_count": null,
      "outputs": []
    },
    {
      "cell_type": "code",
      "metadata": {
        "id": "1VnPCWQu_I4u"
      },
      "source": [
        "result = np.matmul(mat1, mat2)\n",
        "result"
      ],
      "execution_count": null,
      "outputs": []
    },
    {
      "cell_type": "code",
      "metadata": {
        "colab": {
          "base_uri": "https://localhost:8080/"
        },
        "id": "5w6nbpAv_TBR",
        "outputId": "d96882f7-6b18-45e9-9041-c09a0dcbd036"
      },
      "source": [
        "result.shape"
      ],
      "execution_count": null,
      "outputs": [
        {
          "output_type": "execute_result",
          "data": {
            "text/plain": [
              "(3, 4)"
            ]
          },
          "metadata": {
            "tags": []
          },
          "execution_count": 102
        }
      ]
    },
    {
      "cell_type": "markdown",
      "metadata": {
        "id": "jNUSeZANWYc5"
      },
      "source": [
        "**Operações com Múltiplos Eixos**"
      ]
    },
    {
      "cell_type": "code",
      "metadata": {
        "id": "1SMv_D8MDd6t"
      },
      "source": [
        "arr1 = np.random.randint(2, 50, (2, 5))\n",
        "arr1"
      ],
      "execution_count": null,
      "outputs": []
    },
    {
      "cell_type": "code",
      "metadata": {
        "colab": {
          "base_uri": "https://localhost:8080/"
        },
        "id": "ftI9JEPbDg1R",
        "outputId": "f4d00fc4-60ee-4244-fdd2-86c17d30feab"
      },
      "source": [
        "arr1.sum()"
      ],
      "execution_count": null,
      "outputs": [
        {
          "output_type": "execute_result",
          "data": {
            "text/plain": [
              "183"
            ]
          },
          "metadata": {},
          "execution_count": 25
        }
      ]
    },
    {
      "cell_type": "code",
      "metadata": {
        "id": "NgKADSuVDjRW"
      },
      "source": [
        "arr1.sum(axis=0)"
      ],
      "execution_count": null,
      "outputs": []
    },
    {
      "cell_type": "code",
      "metadata": {
        "id": "CAckqL6XDyK2"
      },
      "source": [
        "arr1.sum(axis=1)"
      ],
      "execution_count": null,
      "outputs": []
    },
    {
      "cell_type": "markdown",
      "metadata": {
        "id": "v6dyo7yzIrKf"
      },
      "source": [
        "#Indexação"
      ]
    },
    {
      "cell_type": "code",
      "metadata": {
        "colab": {
          "base_uri": "https://localhost:8080/"
        },
        "id": "SH1gFL-GIqMZ",
        "outputId": "d2486ea9-69b8-46be-cacd-037c70d9c7f7"
      },
      "source": [
        "arr1 = np.arange(2,11)\n",
        "arr1"
      ],
      "execution_count": null,
      "outputs": [
        {
          "output_type": "execute_result",
          "data": {
            "text/plain": [
              "array([ 2,  3,  4,  5,  6,  7,  8,  9, 10])"
            ]
          },
          "metadata": {
            "tags": []
          },
          "execution_count": 115
        }
      ]
    },
    {
      "cell_type": "code",
      "metadata": {
        "id": "ntUECiLdEAEE"
      },
      "source": [
        "# indexação simples"
      ],
      "execution_count": null,
      "outputs": []
    },
    {
      "cell_type": "code",
      "metadata": {
        "id": "kacTH_T1EB8l"
      },
      "source": [
        "# indexação simples(partindo do início)"
      ],
      "execution_count": null,
      "outputs": []
    },
    {
      "cell_type": "code",
      "metadata": {
        "id": "IIkHaWKdEC-H"
      },
      "source": [
        "# indexação simples(de um ponto até o fim do vetor)"
      ],
      "execution_count": null,
      "outputs": []
    },
    {
      "cell_type": "code",
      "metadata": {
        "id": "qmv63Qv2J-Ji"
      },
      "source": [
        "# atribuição de valor fixo em N elementos"
      ],
      "execution_count": null,
      "outputs": []
    },
    {
      "cell_type": "code",
      "metadata": {
        "id": "yCef_DeKEOBC"
      },
      "source": [
        "# atribuição de vetor em N elementos de outro vetor"
      ],
      "execution_count": null,
      "outputs": []
    },
    {
      "cell_type": "markdown",
      "source": [
        "# Cópia de vetores"
      ],
      "metadata": {
        "id": "IgyRmipp66K9"
      }
    },
    {
      "cell_type": "code",
      "metadata": {
        "id": "mKkfSuqwKhCR"
      },
      "source": [
        "arr1 = np.random.randint(2, 11, 10)\n",
        "arr1"
      ],
      "execution_count": null,
      "outputs": []
    },
    {
      "cell_type": "code",
      "metadata": {
        "id": "yZMJM68eL4Kp"
      },
      "source": [
        "arr_copy = arr1.copy()\n",
        "arr_copy"
      ],
      "execution_count": null,
      "outputs": []
    },
    {
      "cell_type": "code",
      "metadata": {
        "id": "NFYqCFaJLfq2"
      },
      "source": [
        "slice_arr = arr1[:5]\n",
        "slice_arr"
      ],
      "execution_count": null,
      "outputs": []
    },
    {
      "cell_type": "code",
      "metadata": {
        "id": "epRtMwkdMCiN"
      },
      "source": [
        "slice_arr[:] = -5\n",
        "slice_arr"
      ],
      "execution_count": null,
      "outputs": []
    },
    {
      "cell_type": "code",
      "metadata": {
        "id": "XCClUFAAMFtg"
      },
      "source": [
        "arr1"
      ],
      "execution_count": null,
      "outputs": []
    },
    {
      "cell_type": "code",
      "metadata": {
        "id": "YiU9Qn0yMMlN"
      },
      "source": [
        "arr_copy"
      ],
      "execution_count": null,
      "outputs": []
    },
    {
      "cell_type": "markdown",
      "metadata": {
        "id": "ScOqhJk6M9hI"
      },
      "source": [
        "##Seleção condicional"
      ]
    },
    {
      "cell_type": "code",
      "source": [],
      "metadata": {
        "id": "BtPKMC3o7C-v"
      },
      "execution_count": null,
      "outputs": []
    },
    {
      "cell_type": "markdown",
      "source": [
        "# Quebra e concatenação de vetores"
      ],
      "metadata": {
        "id": "35JV3cAgoTK6"
      }
    },
    {
      "cell_type": "code",
      "source": [
        "v = np.arange(12)\n",
        "np.split(v, [3, 5, 6, 10, 11]) # [v[0:3], v[3:5], v[5:6], v[6:10], v[10:11], v[11:]]"
      ],
      "metadata": {
        "id": "jWEs1w0yoV6E"
      },
      "execution_count": null,
      "outputs": []
    },
    {
      "cell_type": "code",
      "source": [
        "v1, v2, v3, v4, v5, v6 = np.split(v, [3, 5, 6, 10, 11])"
      ],
      "metadata": {
        "id": "aYwO0jZLpBjG"
      },
      "execution_count": null,
      "outputs": []
    },
    {
      "cell_type": "code",
      "source": [
        "np.concatenate((v1, v2, v3, v4, v5, v6))"
      ],
      "metadata": {
        "id": "ySsfRSVTpEvv"
      },
      "execution_count": null,
      "outputs": []
    },
    {
      "cell_type": "markdown",
      "source": [
        "# Flatten"
      ],
      "metadata": {
        "id": "mVZc2zR4pcol"
      }
    },
    {
      "cell_type": "code",
      "source": [
        "M = np.random.randint(0, 100, (5, 5))\n",
        "M"
      ],
      "metadata": {
        "id": "r7ujC-tQpeVh"
      },
      "execution_count": null,
      "outputs": []
    },
    {
      "cell_type": "code",
      "source": [
        "M.ravel() # linha i(0 a 4), coluna j(0 a 4) => indice 5*i + j"
      ],
      "metadata": {
        "id": "eryAkVXCpjt6"
      },
      "execution_count": null,
      "outputs": []
    },
    {
      "cell_type": "markdown",
      "source": [
        "##Multiplicação de vetores e matrizes"
      ],
      "metadata": {
        "id": "ZstctfNOPFJF"
      }
    },
    {
      "cell_type": "code",
      "source": [],
      "metadata": {
        "id": "6YNARRbeRGSp"
      },
      "execution_count": null,
      "outputs": []
    },
    {
      "cell_type": "markdown",
      "source": [
        "# Matplotlib"
      ],
      "metadata": {
        "id": "w__WOUjYgkjS"
      }
    },
    {
      "cell_type": "code",
      "source": [
        "import matplotlib.pyplot as plt"
      ],
      "metadata": {
        "id": "ao1Z_BXJgjIC"
      },
      "execution_count": null,
      "outputs": []
    },
    {
      "cell_type": "code",
      "source": [
        "plt.plot([1, 2, 3, 4])\n",
        "plt.ylabel('some numbers')\n",
        "plt.show()"
      ],
      "metadata": {
        "id": "QkjEpD59le94"
      },
      "execution_count": null,
      "outputs": []
    },
    {
      "cell_type": "code",
      "source": [
        "plt.plot([1, 2, 3, 4])\n",
        "plt.ylabel('some numbers')\n",
        "plt.xlim([0, 4.0])\n",
        "plt.ylim([0, 5.0])\n",
        "plt.show()"
      ],
      "metadata": {
        "id": "JOzotZL1lhCD"
      },
      "execution_count": null,
      "outputs": []
    },
    {
      "cell_type": "code",
      "source": [
        "import numpy as np\n",
        "fig = plt.figure()\n",
        "ax0 = fig.add_subplot(111)\n",
        "\n",
        "ax0.plot([0, 1, 2, 3, 4, 5], [0, 1, 4, 9, 16, 25])\n",
        "ax0.set_ylabel('some numbers')\n",
        "ax0.set_xlim([0, 4.0])\n",
        "ax0.set_ylim([0, 4.0])\n",
        "\n",
        "xticks = np.concatenate((np.arange(0, 1, 0.5), np.arange(1, 5, 0.25)))\n",
        "yticks = np.concatenate((np.arange(0, 1, 0.5), np.arange(1, 5, 0.25)))\n",
        "\n",
        "ax0.set_xticks(xticks)\n",
        "ax0.set_yticks(yticks)\n",
        "plt.show()"
      ],
      "metadata": {
        "id": "1Y6QSnisly0B"
      },
      "execution_count": null,
      "outputs": []
    },
    {
      "cell_type": "markdown",
      "source": [
        "# Gradiente Descendente(Intuição)"
      ],
      "metadata": {
        "id": "ZPZVXdDdj-vL"
      }
    },
    {
      "cell_type": "code",
      "source": [
        "X = np.linspace(-10, 12, 20)\n",
        "Y = X ** 2 - 2 * X\n",
        "\n",
        "plt.plot(X, Y)\n",
        "plt.show()"
      ],
      "metadata": {
        "id": "rC6ITyFOkBT3"
      },
      "execution_count": null,
      "outputs": []
    },
    {
      "cell_type": "code",
      "source": [
        "def f_Y(x):\n",
        "  return x ** 2 - 2 * x\n",
        "\n",
        "def grad_Y(x):\n",
        "  return 2 * x - 2"
      ],
      "metadata": {
        "id": "alMtU3_lr0_0"
      },
      "execution_count": null,
      "outputs": []
    },
    {
      "cell_type": "code",
      "source": [
        "x0 = -10\n",
        "alfa = 0.2\n",
        "x_rastro = []\n",
        "y_rastro = []\n",
        "for i in range(20):\n",
        "  x0 = x0 - alfa * grad_Y(x0)\n",
        "  y0 = f_Y(x0)\n",
        "  x_rastro.append(x0)\n",
        "  y_rastro.append(y0)\n",
        "  print(x0, y0)"
      ],
      "metadata": {
        "id": "GRq3ksc1sCBi"
      },
      "execution_count": null,
      "outputs": []
    },
    {
      "cell_type": "code",
      "source": [
        "plt.scatter(x_rastro, y_rastro)\n",
        "plt.plot(X, Y)\n",
        "plt.show()"
      ],
      "metadata": {
        "id": "JkH80QhStur6"
      },
      "execution_count": null,
      "outputs": []
    }
  ]
}