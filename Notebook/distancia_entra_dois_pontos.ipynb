{
  "nbformat": 4,
  "nbformat_minor": 0,
  "metadata": {
    "colab": {
      "provenance": []
    },
    "kernelspec": {
      "name": "python3",
      "display_name": "Python 3"
    },
    "language_info": {
      "name": "python"
    }
  },
  "cells": [
    {
      "cell_type": "code",
      "execution_count": null,
      "metadata": {
        "colab": {
          "base_uri": "https://localhost:8080/",
          "height": 368
        },
        "id": "1TsGZg2EYIhy",
        "outputId": "a5b475d4-b1ed-4df9-fa98-5f3e54b534f9"
      },
      "outputs": [
        {
          "name": "stdout",
          "output_type": "stream",
          "text": [
            "Digite apenas valores inteiros.\n",
            "Digite o X do ponto A: -2\n",
            "Digite o Y do ponto A: 3\n",
            "Digite o X do ponto B: 5\n",
            "Digite o Y do ponto B: 8\n"
          ]
        },
        {
          "output_type": "display_data",
          "data": {
            "text/plain": [
              "<Figure size 432x288 with 1 Axes>"
            ],
            "image/png": "[encoded data removed]"
          },
          "metadata": {
            "needs_background": "light"
          }
        }
      ],
      "source": [
        "\n",
        "import numpy as np\n",
        "import matplotlib.pyplot as plt\n",
        "\n",
        "\n",
        "# utilização do teorema de pitágoras\n",
        "def pitagoras(a, b, p):\n",
        "    dx = a[0] - p[0]\n",
        "    dy = b[1] - p[1]\n",
        "    return np.sqrt((dx ** 2 + dy ** 2))\n",
        "\n",
        "\n",
        "# criando um ponto P\n",
        "def pontoP(a, b):\n",
        "    p.append(b[0])\n",
        "    p.append(a[1])\n",
        "    return p\n",
        "\n",
        "#____________________________________________________##\n",
        "#____________________________________________________##\n",
        "p = []\n",
        "\n",
        "print('Digite apenas valores inteiros.')\n",
        "ax = int(input('Digite o X do ponto A: '))\n",
        "ay = int(input('Digite o Y do ponto A: '))\n",
        "bx = int(input('Digite o X do ponto B: '))\n",
        "by = int(input('Digite o Y do ponto B: '))\n",
        "\n",
        "a = [ax,ay]  # valores de x,y respectivos\n",
        "b = [bx,by]  # valores de x,y respectivos\n",
        "\n",
        "#VALORES\n",
        "#a = [5,6]  # valores de x,y respectivos\n",
        "#b = [1, 1]  # valores de x,y respectivos\n",
        "pontoP(a, b)\n",
        "\n",
        "#____________________________________________________##\n",
        "#____________________________________________________##\n",
        "\n",
        "\n",
        "\n",
        "# configuração do grafico\n",
        "plt.title('Distância entre dois pontos')  # titulo\n",
        "plt.grid(True)  # mostrar fundo\n",
        "plt.plot(10, 10)  # tamanho do grafico\n",
        "\n",
        "\n",
        "# plotagem\n",
        "\n",
        "plt.plot([b[0], p[0]],\n",
        "         [b[1], p[1]],\n",
        "         marker='o', label = str(abs(b[1] - p[1])))  # x e y de cima pra baixo respectivamente\n",
        "\n",
        "plt.plot([a[0], b[0]],\n",
        "         [a[1], b[1]],\n",
        "         marker='o', label = str('%.2f' % pitagoras(a,b,p)))  # x e y de cima pra baixo respectivamente\n",
        "\n",
        "plt.plot([a[0], p[0]],\n",
        "         [a[1], p[1]],\n",
        "         marker='o',label = str(abs(a[0] - p[0])))  # x e y de cima pra baixo respectivamente\n",
        "\n",
        "plt.legend() #chamando label de cada reta\n",
        "# mostrar\n",
        "plt.show()"
      ]
    }
  ]
}