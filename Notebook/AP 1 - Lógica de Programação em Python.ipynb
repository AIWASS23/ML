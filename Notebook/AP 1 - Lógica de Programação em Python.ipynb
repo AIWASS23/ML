{
 "cells": [
  {
   "cell_type": "markdown",
   "metadata": {
    "id": "PpQ6IeZMIDqB"
   },
   "source": [
    "### 1) Criando um gráfico de barras primitivo (2.5 pontos)\n",
    "\n",
    "\n",
    "Escreva uma função em Python que receba uma sequência de números inteiros e mostre um gráfico de barras usando a função print.\n",
    "\n",
    "**Ex**:\n",
    "  * **entrada**: [19, 3, 15, 7, 11]\n",
    "  * **saída**:\n",
    "\n",
    "    ################### \n",
    "    \n",
    "    ### \n",
    "\n",
    "    ############### \n",
    "\n",
    "    ####### \n",
    "\n",
    "    ########### \n",
    "\n",
    "  * **Obs.:** a saída não precisa ser exatamente assim. Fique a vontade para pensar a melhor forma de exibir o resultado, desde que os tamanhos das barras estejam diretamente relacionadaos com os valores dos atribultos de entrada."
   ]
  },
  {
   "cell_type": "code",
   "execution_count": null,
   "metadata": {
    "id": "JTH8E2BoH6us"
   },
   "outputs": [],
   "source": []
  },
  {
   "cell_type": "markdown",
   "metadata": {
    "id": "NSvRNtoVQIE3"
   },
   "source": [
    "### 2) Distância Mínima ao Centróide (5 pontos)\n",
    "\n",
    "Implemente o classificador *Distância Mínima ao Centróide*, use o conjunto de dados $xl,yl$ para treinamento e em seguida calcula a acurácia (percentual de acerto) obtida no conjunto de dados $xt, yt$."
   ]
  },
  {
   "cell_type": "code",
   "execution_count": 2,
   "metadata": {
    "executionInfo": {
     "elapsed": 474,
     "status": "ok",
     "timestamp": 1653609009429,
     "user": {
      "displayName": "Alisson Sampaio de Carvalho Alencar",
      "userId": "05313602437341976255"
     },
     "user_tz": 180
    },
    "id": "gTk1qRFrQL6e"
   },
   "outputs": [],
   "source": [
    "import numpy as np\n",
    "import matplotlib.pyplot as plt"
   ]
  },
  {
   "cell_type": "code",
   "execution_count": 3,
   "metadata": {
    "executionInfo": {
     "elapsed": 13,
     "status": "ok",
     "timestamp": 1653609011361,
     "user": {
      "displayName": "Alisson Sampaio de Carvalho Alencar",
      "userId": "05313602437341976255"
     },
     "user_tz": 180
    },
    "id": "vL97IK5HQYNC"
   },
   "outputs": [],
   "source": [
    "np.random.seed(1)\n",
    "centers = np.array([[np.sin(np.pi/6), np.cos(np.pi/6)], [np.sin(5*np.pi/6), np.cos(5*np.pi/6)], [np.sin(3*np.pi/2), np.cos(3*np.pi/2)]])\n",
    "nl = 100\n",
    "nt = 20\n",
    "\n",
    "xl = np.empty([3*nl, 2])\n",
    "yl = np.empty(3*nl)\n",
    "for i, center in enumerate(centers):\n",
    "  xl[i*nl: i*nl+nl, :] = np.random.multivariate_normal(center, np.eye(2)*0.05, size = nl)\n",
    "  yl[i*nl: i*nl+nl] = i*np.ones(nl)\n",
    "\n",
    "xt = np.empty([3*nt, 2])\n",
    "yt = np.empty(3*nt)\n",
    "for i, center in enumerate(centers):\n",
    "  xt[i*nt: i*nt+nt, :] = np.random.multivariate_normal(center, np.eye(2)*0.05, size = nt)\n",
    "  yt[i*nt: i*nt+nt] = i*np.ones(nt)  "
   ]
  },
  {
   "cell_type": "code",
   "execution_count": 4,
   "metadata": {
    "colab": {
     "base_uri": "https://localhost:8080/",
     "height": 282
    },
    "executionInfo": {
     "elapsed": 568,
     "status": "ok",
     "timestamp": 1653609014204,
     "user": {
      "displayName": "Alisson Sampaio de Carvalho Alencar",
      "userId": "05313602437341976255"
     },
     "user_tz": 180
    },
    "id": "Es3U2mlCQvo6",
    "outputId": "f4e31db0-e332-4bf2-b82d-ad6662d164fc"
   },
   "outputs": [
    {
     "data": {
      "text/plain": [
       "[<matplotlib.lines.Line2D at 0x7fbf31343fd0>]"
      ]
     },
     "execution_count": 4,
     "metadata": {},
     "output_type": "execute_result"
    },
    {
     "data": {
      "image/png": "[encoded data removed]",
      "text/plain": [
       "<Figure size 432x288 with 1 Axes>"
      ]
     },
     "metadata": {
      "needs_background": "light"
     },
     "output_type": "display_data"
    }
   ],
   "source": [
    "plt.plot(xl[yl==0, 0], xl[yl==0, 1], 'bo', alpha=0.4)\n",
    "plt.plot(xl[yl==1, 0], xl[yl==1, 1], 'ro', alpha=0.4)\n",
    "plt.plot(xl[yl==2, 0], xl[yl==2, 1], 'go', alpha=0.4)\n",
    "\n",
    "plt.plot(xt[yt==0, 0], xt[yt==0, 1], 'b.')\n",
    "plt.plot(xt[yt==1, 0], xt[yt==1, 1], 'r.')\n",
    "plt.plot(xt[yt==2, 0], xt[yt==2, 1], 'g.')"
   ]
  },
  {
   "cell_type": "code",
   "execution_count": null,
   "metadata": {
    "id": "EAuvSK1CUvCk"
   },
   "outputs": [],
   "source": [
    "# Seu código aqui"
   ]
  },
  {
   "cell_type": "markdown",
   "metadata": {
    "id": "nuu8cUWsWUR2"
   },
   "source": [
    "### 3) Distribuição da população (2.5 pontos)\n",
    "\n",
    "A variável **geo_ce** possui o cunjunto de dados usado no exemplo da aula de GeoPandas. Use-a para mostrar um gráfico com a distribuição da população do estado. Tome o cuidado de garantir que o gráfico seja inteligível."
   ]
  },
  {
   "cell_type": "code",
   "execution_count": null,
   "metadata": {
    "colab": {
     "base_uri": "https://localhost:8080/"
    },
    "executionInfo": {
     "elapsed": 8434,
     "status": "ok",
     "timestamp": 1651793557164,
     "user": {
      "displayName": "Alisson Sampaio de Carvalho Alencar",
      "userId": "05313602437341976255"
     },
     "user_tz": 180
    },
    "id": "b1L4tNRLWoj8",
    "outputId": "f7b46b70-58da-4b7d-c465-373adc32d5dc"
   },
   "outputs": [
    {
     "name": "stdout",
     "output_type": "stream",
     "text": [
      "Collecting geopandas\n",
      "  Downloading geopandas-0.10.2-py2.py3-none-any.whl (1.0 MB)\n",
      "\u001b[K     |████████████████████████████████| 1.0 MB 7.4 MB/s \n",
      "\u001b[?25hCollecting fiona>=1.8\n",
      "  Downloading Fiona-1.8.21-cp37-cp37m-manylinux2014_x86_64.whl (16.7 MB)\n",
      "\u001b[K     |████████████████████████████████| 16.7 MB 265 kB/s \n",
      "\u001b[?25hCollecting pyproj>=2.2.0\n",
      "  Downloading pyproj-3.2.1-cp37-cp37m-manylinux2010_x86_64.whl (6.3 MB)\n",
      "\u001b[K     |████████████████████████████████| 6.3 MB 56.5 MB/s \n",
      "\u001b[?25hRequirement already satisfied: pandas>=0.25.0 in /usr/local/lib/python3.7/dist-packages (from geopandas) (1.3.5)\n",
      "Requirement already satisfied: shapely>=1.6 in /usr/local/lib/python3.7/dist-packages (from geopandas) (1.8.1.post1)\n",
      "Collecting cligj>=0.5\n",
      "  Downloading cligj-0.7.2-py3-none-any.whl (7.1 kB)\n",
      "Requirement already satisfied: click>=4.0 in /usr/local/lib/python3.7/dist-packages (from fiona>=1.8->geopandas) (7.1.2)\n",
      "Collecting click-plugins>=1.0\n",
      "  Downloading click_plugins-1.1.1-py2.py3-none-any.whl (7.5 kB)\n",
      "Requirement already satisfied: certifi in /usr/local/lib/python3.7/dist-packages (from fiona>=1.8->geopandas) (2021.10.8)\n",
      "Collecting munch\n",
      "  Downloading munch-2.5.0-py2.py3-none-any.whl (10 kB)\n",
      "Requirement already satisfied: setuptools in /usr/local/lib/python3.7/dist-packages (from fiona>=1.8->geopandas) (57.4.0)\n",
      "Requirement already satisfied: attrs>=17 in /usr/local/lib/python3.7/dist-packages (from fiona>=1.8->geopandas) (21.4.0)\n",
      "Requirement already satisfied: six>=1.7 in /usr/local/lib/python3.7/dist-packages (from fiona>=1.8->geopandas) (1.15.0)\n",
      "Requirement already satisfied: python-dateutil>=2.7.3 in /usr/local/lib/python3.7/dist-packages (from pandas>=0.25.0->geopandas) (2.8.2)\n",
      "Requirement already satisfied: pytz>=2017.3 in /usr/local/lib/python3.7/dist-packages (from pandas>=0.25.0->geopandas) (2022.1)\n",
      "Requirement already satisfied: numpy>=1.17.3 in /usr/local/lib/python3.7/dist-packages (from pandas>=0.25.0->geopandas) (1.21.6)\n",
      "Installing collected packages: munch, cligj, click-plugins, pyproj, fiona, geopandas\n",
      "Successfully installed click-plugins-1.1.1 cligj-0.7.2 fiona-1.8.21 geopandas-0.10.2 munch-2.5.0 pyproj-3.2.1\n"
     ]
    }
   ],
   "source": [
    "!pip install geopandas"
   ]
  },
  {
   "cell_type": "code",
   "execution_count": null,
   "metadata": {
    "id": "1RTG8p2FWt1W"
   },
   "outputs": [],
   "source": [
    "import geopandas as gpd"
   ]
  },
  {
   "cell_type": "code",
   "execution_count": null,
   "metadata": {
    "id": "pxV_tusrWbt8"
   },
   "outputs": [],
   "source": [
    "geo_ce = gpd.read_file('http://mapas.ipece.ce.gov.br/i3geo/ogc.php?OUTPUTFORMAT=geojson&bbox=-76.512593,-36.948432,-29.585185,7.046013&service=wfs&version=1.1.0&request=getfeature&layers=setores_populacao_2010&typeName=setores_populacao_2010')"
   ]
  },
  {
   "cell_type": "code",
   "execution_count": null,
   "metadata": {
    "id": "iew_pRtFWnFl"
   },
   "outputs": [],
   "source": [
    "#Seu código aqui"
   ]
  },
  {
   "cell_type": "code",
   "execution_count": null,
   "metadata": {
    "id": "z2bJzMosky4F"
   },
   "outputs": [],
   "source": []
  }
 ],
 "metadata": {
  "colab": {
   "authorship_tag": "ABX9TyPE0OO8BC6pWwC5zDQ3PWpu",
   "name": "AP 1 - Lógica de Programação em Python.ipynb",
   "provenance": []
  },
  "kernelspec": {
   "display_name": "Python 3",
   "language": "python",
   "name": "python3"
  },
  "language_info": {
   "codemirror_mode": {
    "name": "ipython",
    "version": 3
   },
   "file_extension": ".py",
   "mimetype": "text/x-python",
   "name": "python",
   "nbconvert_exporter": "python",
   "pygments_lexer": "ipython3",
   "version": "3.8.8"
  }
 },
 "nbformat": 4,
 "nbformat_minor": 1
}
